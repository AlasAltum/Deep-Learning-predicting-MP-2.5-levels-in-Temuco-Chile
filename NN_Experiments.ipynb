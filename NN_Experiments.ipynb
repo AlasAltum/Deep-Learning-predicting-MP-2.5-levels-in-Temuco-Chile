{
 "cells": [
  {
   "cell_type": "markdown",
   "metadata": {
    "colab_type": "text",
    "id": "OXSZeV2gTYZQ"
   },
   "source": [
    "# Neural Networks Experiments\n",
    "\n",
    "## Students: <br>\n",
    "Tomás Rojas <br>\n",
    "Matías Montagna <br>\n",
    "Alonso Utreras\n",
    "\n",
    "## The objective of this notebook is to show the results from different models, including different inputs, but trying to get the same output."
   ]
  },
  {
   "cell_type": "code",
   "execution_count": null,
   "metadata": {},
   "outputs": [],
   "source": [
    "import pandas as pd\n",
    "import torch\n",
    "import torch.optim as optim\n",
    "from torch import nn\n",
    "import numpy as np\n",
    "from sklearn.model_selection import train_test_split\n",
    "import log_info as log\n",
    "\n",
    "\n",
    "# Get data\n",
    "all_data = pd.read_csv(\".\\data_product_temp_mp25\")\n",
    "\n",
    "all_data = all_data.dropna()\n",
    "X = all_data[all_data.columns[-4]]\n",
    "Y = all_data[all_data.columns[-2]]\n",
    "# Y = all_data[all_data.columns[:-4]].join(Y) # para que tenga todo"
   ]
  },
  {
   "cell_type": "markdown",
   "metadata": {},
   "source": [
    "### Dividing data into train, test and validation sets\n",
    "We chose a train size of 70% of all data, while 15% corresponds to test and 15% to validation data."
   ]
  },
  {
   "cell_type": "code",
   "execution_count": null,
   "metadata": {},
   "outputs": [],
   "source": [
    "test_data_size = int(len(all_data) * 0.7)\n",
    "\n",
    "train_data = all_data[:-test_data_size]\n",
    "test_data = all_data[-test_data_size:]\n",
    "\n",
    "X_train, X_2, y_train, y_2 = train_test_split(X, Y, test_size=0.3, random_state=42)\n",
    "X_test, X_val, y_test, y_val = train_test_split(X_2, y_2, test_size=0.3, random_state=42)\n",
    "\n"
   ]
  },
  {
   "cell_type": "markdown",
   "metadata": {},
   "source": [
    "### Setting device to work with. Use cuda if available."
   ]
  },
  {
   "cell_type": "code",
   "execution_count": null,
   "metadata": {
    "tags": []
   },
   "outputs": [],
   "source": [
    "device = ('cuda' if torch.cuda.is_available() else 'cpu')\n",
    "print(device)\n",
    "\n",
    "x_train_np = np.asarray(X_train.values)\n",
    "y_train_np = np.asarray(y_train.values)\n",
    "\n",
    "X_train = torch.from_numpy(x_train_np)\n",
    "y_train = torch.from_numpy(y_train_np)"
   ]
  },
  {
   "cell_type": "markdown",
   "metadata": {},
   "source": [
    "### Normalizing train data:\n",
    "We read here https://stackabuse.com/time-series-prediction-using-lstm-with-pytorch-in-python/\n",
    "that it is important to normalize data when working with time series. \n",
    "\n"
   ]
  },
  {
   "cell_type": "code",
   "execution_count": null,
   "metadata": {},
   "outputs": [],
   "source": [
    "from sklearn.preprocessing import MinMaxScaler\n",
    "\n",
    "\n",
    "# # scaler = MinMaxScaler(feature_range=(-1, 1))\n",
    "# # train_data_normalized = scaler.fit_transform(train_data.reshape(-1, 1))\n",
    "\n",
    "# # # Transforming data into tensors\n",
    "# # train_data_normalized = torch.FloatTensor(train_data_normalized).view(-1)\n"
   ]
  },
  {
   "cell_type": "markdown",
   "metadata": {},
   "source": [
    "## Classes for training our models:"
   ]
  },
  {
   "cell_type": "markdown",
   "metadata": {},
   "source": [
    "## First model, which is a simple ff NN using just date.\n",
    "Simple feedforward NN\n",
    "Input: Date"
   ]
  },
  {
   "cell_type": "code",
   "execution_count": null,
   "metadata": {
    "tags": []
   },
   "outputs": [],
   "source": [
    "import torch.nn as nn\n",
    "\n",
    "\n",
    "# a = m.SimpleFCModel(1, 1)\n",
    "class SimpleDoubleModel(nn.Module):\n",
    "    \"\"\" Simple feedforward network of two fully connected layers\"\"\"\n",
    "    def __init__(self, input_size, hidden_size, output_size=1, model_name='SimpleDoubleModel'):\n",
    "        super().__init__()\n",
    "        self.fc1 = nn.Linear(input_size, hidden_size)\n",
    "        self.log_sigmoid1 = torch.nn.LogSigmoid()\n",
    "        self.fc2 = nn.Linear(in_features=hidden_size, out_features=output_size)\n",
    "        self.name = model_name\n",
    "\n",
    "    def forward(self, input):\n",
    "        hidden_preds = log_sigmoid1(self.fc1(input))\n",
    "        predictions = self.fc2(hidden_preds)\n",
    "\n",
    "        return predictions\n",
    "\n",
    "# Setting model to use and its name\n",
    "modelo_1_temp_pm = SimpleDoubleModel(1, 8, 1, \"Temp PM Sequential 2 layers\")\n",
    "model_name = \"Temp PM Sequential 2 layers\"\n",
    "loss_1 = torch.nn.MSELoss()\n",
    "\n",
    "# Setting model, loss and optimizer\n",
    "model = modelo_1_temp_pm\n",
    "loss = loss_1.to(device)\n",
    "# optimizer = optim.SGD(model.parameters(), lr=0.01, momentum=0.9)\n",
    "optimizer = optim.Adam(model.parameters())\n",
    "\n",
    "# Setting logger\n",
    "Logger = log.LogInfo(\n",
    "    model=model, \n",
    "    model_name=\"temp_PM25_Sequential_double_layer\"\n",
    "    )\n",
    "\n",
    "# Hyperparamters\n",
    "n_epochs = 5"
   ]
  },
  {
   "cell_type": "markdown",
   "metadata": {},
   "source": [
    "## Training function"
   ]
  },
  {
   "cell_type": "code",
   "execution_count": null,
   "metadata": {},
   "outputs": [],
   "source": [
    "import time\n",
    "\n",
    "def init_weights(model):\n",
    "    # Inicializamos los pesos como aleatorios\n",
    "    for name, param in model.named_parameters():\n",
    "        nn.init.normal_(param.data, mean=0, std=0.1) \n",
    "\n",
    "def count_parameters(model):\n",
    "    return sum(p.numel() for p in model.parameters() if p.requires_grad)\n",
    "\n",
    "# TODO: Completar\n",
    "def batcher(training_data, batch_size=365*24):\n",
    "    \"\"\"TODO: FIX for our data. We still don't know  how our data is going to be.  \"\"\"\n",
    "    inout_seq = []\n",
    "    L = len(training_data)\n",
    "    for i in range(L-batch_size):\n",
    "        train_seq = input_data[i:i+batch_size]\n",
    "        train_label = input_data[i+batch_size:i+batch_size+1]\n",
    "        inout_seq.append((train_seq ,train_label))\n",
    "    return inout_seq\n",
    "\n",
    "\n",
    "def train(model, x_train, y_train, optimizer, loss_function, epochs=5, batch_size=365*24):\n",
    "    model.train()\n",
    "    total_loss = 0\n",
    "\n",
    "    for i in range(epochs):\n",
    "        epoch_loss = 0\n",
    "        best_test_loss = float('inf')\n",
    "\n",
    "        for x_i, y_i in zip(x_train, y_train):\n",
    "            optimizer.zero_grad()\n",
    "            y_pred = model(x_i)\n",
    "\n",
    "            loss = loss_function(y_pred, y_train)\n",
    "            epoch_loss += loss.item()\n",
    "            loss.backward()\n",
    "            optimizer.step()\n",
    "\n",
    "        # Save results from the best trained model\n",
    "        if epoch_loss < best_test_loss:\n",
    "            best_test_loss = epoch_loss\n",
    "            torch.save(model.state_dict(), '{}.pt'.format(model.name))\n",
    "            \n",
    "        total_loss += epoch_loss\n",
    "        print(f'epoch: {i} loss: {epoch_loss:10.8f}')\n",
    "\n",
    "    print(f'Average loss: {total_loss/len(x_train):4f}')\n",
    "    return total_loss\n",
    "\n",
    "def epoch_time(start_time, end_time):\n",
    "    elapsed_time = end_time - start_time\n",
    "    elapsed_mins = int(elapsed_time / 60)\n",
    "    elapsed_secs = int(elapsed_time - (elapsed_mins * 60))\n",
    "    return elapsed_mins, elapsed_secs\n",
    "\n",
    "def test(model, x_test, y_test, loss_function, batch_size=365*24):\n",
    "    model.eval()\n",
    "    total_loss = 0\n",
    "\n",
    "    with torch.no_grad():\n",
    "        for x_i, y_i in zip(x_test, y_test):\n",
    "            # predict data using the given model\n",
    "            prediction = model(x_i)\n",
    "            # Compute loss\n",
    "            total_loss += loss_function(prediction, y_i).item()\n",
    "\n",
    "    print(total_loss)\n",
    "\n",
    "    return total_loss\n",
    "\n",
    "def load_best_model(model):\n",
    "    return model.load_state_dict(torch.load(f'{model.name}.pt'))"
   ]
  },
  {
   "cell_type": "markdown",
   "metadata": {},
   "source": [
    "### Execute Training and Testing:"
   ]
  },
  {
   "cell_type": "code",
   "execution_count": null,
   "metadata": {},
   "outputs": [],
   "source": [
    "# Execute training\n",
    "def execute_training(model, x_train, y_train, x_test, y_test, optimizer, loss_function, logger, n_epochs=5, batch_size=365*24):\n",
    "    # Train\n",
    "\n",
    "    start_time = time.time()\n",
    "    train_loss = train(model, x_train, y_train, optimizer, loss_function, n_epochs, batch_size)\n",
    "    end_time = time.time();\n",
    "    train_time = end_time - start_time\n",
    "\n",
    "    print(f'Training time = {train_time}')\n",
    "    print(f'Train Loss: {train_loss}')\n",
    "\n",
    "\n",
    "    # # Test\n",
    "    start_time = time.time()\n",
    "\n",
    "    test_loss = test(model, x_test, y_test, loss_function, batch_size)\n",
    "    end_time = time.time()\n",
    "    test_time = end_time - start_time \n",
    "\n",
    "    print(f'\\t Val. Loss: {test_loss:.3f}')\n",
    "\n",
    "    logger.model_loss['train'] = train_loss\n",
    "    logger.model_loss['test'] = test_loss\n",
    "    logger.set_train_test_size(x_train, x_test)\n",
    "    logger.set_training_time(train_time)\n"
   ]
  },
  {
   "cell_type": "code",
   "execution_count": null,
   "metadata": {},
   "outputs": [],
   "source": [
    "# Clean CUDA RAM\n",
    "torch.cuda.empty_cache()"
   ]
  },
  {
   "cell_type": "markdown",
   "metadata": {},
   "source": [
    "## TODO: Plot predictions v/s real data"
   ]
  },
  {
   "cell_type": "code",
   "execution_count": null,
   "metadata": {},
   "outputs": [],
   "source": [
    "# X_train = X_train.transpose(0, 1)\n",
    "# y_train = y_train.transpose(0, 1)\n",
    "X_tensor = X_train.view(-1, 1)\n",
    "y_tensor = y_train.view(-1, 1)\n",
    "# X_tensor = X_tensor.transpose(0, 1)\n",
    "# y_tensor = y_tensor.transpose(0, 1)"
   ]
  },
  {
   "cell_type": "code",
   "execution_count": null,
   "metadata": {},
   "outputs": [],
   "source": [
    "X_train = X_tensor[:3000].to(device)\n",
    "y_train = y_tensor[:3000].to(device)\n",
    "X_test = X_tensor[3000:4000].to(device)\n",
    "y_test = y_tensor[3000:4000].to(device)"
   ]
  },
  {
   "cell_type": "code",
   "execution_count": null,
   "metadata": {
    "tags": []
   },
   "outputs": [],
   "source": [
    "print(f'The current model contains {count_parameters(model)} trainable parameters.')     \n",
    "model = model.double()\n",
    "model.apply(init_weights)\n",
    "\n",
    "execute_training(\n",
    "    model=model,\n",
    "    x_train=X_train,\n",
    "    y_test=y_train,\n",
    "    x_test=X_test,\n",
    "    y_test=y_test,\n",
    "    optimizer=optimizer,\n",
    "    loss_function=loss,\n",
    "    logger=Logger,\n",
    "    n_epochs=n_epochs\n",
    "    )"
   ]
  },
  {
   "cell_type": "code",
   "execution_count": null,
   "metadata": {},
   "outputs": [],
   "source": [
    "load_best_model(model)"
   ]
  },
  {
   "cell_type": "markdown",
   "metadata": {},
   "source": [
    "### Plotting predicted data vs real data. Also logging results into a logfile"
   ]
  },
  {
   "cell_type": "code",
   "execution_count": null,
   "metadata": {},
   "outputs": [],
   "source": [
    "import matplotlib.pyplot as plt\n",
    "import logging\n",
    "\n",
    "logging.basicConfig(filename=f'./data/{model_name}.log', level=logging.ERROR)\n",
    "\n",
    "# Transform tensors to numpy arrays\n",
    "y_pred = model(X_test)\n",
    "X_test_np = X_test.cpu().detach().numpy()\n",
    "y_test_np = y_test.cpu().detach().numpy()\n",
    "y_pred_np = y_pred.cpu().detach().numpy()\n",
    "\n",
    "\n",
    "fig, ax = plt.subplots()\n",
    "\n",
    "# plot both real values and prediction values\n",
    "results_plot = plt.scatter(X_test_np, y_test_np, marker=\"*\", label=\"results\")\n",
    "pred_plot = plt.scatter(X_test_np, y_pred_np, marker=\"+\", label=\"predictions\")\n",
    "\n",
    "ax.legend()            \n",
    "plt.xlabel(\"temperatura\")\n",
    "plt.ylabel(\"mp2.5\")\n",
    "\n",
    "# plot results and store it in results directory\n",
    "plt.show()\n",
    "plt.savefig(f'./results/{model.name}')"
   ]
  }
 ],
 "metadata": {
  "colab": {
   "name": "Proyecto_de_ML_prediccion_PM.ipynb",
   "provenance": [],
   "toc_visible": true
  },
  "kernelspec": {
   "display_name": "Python 3.7.6 64-bit ('base': conda)",
   "language": "python",
   "name": "python37664bitbaseconda768978131ac44bf49e7b16a08459a01b"
  },
  "language_info": {
   "codemirror_mode": {
    "name": "ipython",
    "version": 3
   },
   "file_extension": ".py",
   "mimetype": "text/x-python",
   "name": "python",
   "nbconvert_exporter": "python",
   "pygments_lexer": "ipython3",
   "version": "3.7.6-final"
  }
 },
 "nbformat": 4,
 "nbformat_minor": 1
}