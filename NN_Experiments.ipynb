{
 "cells": [
  {
   "cell_type": "markdown",
   "metadata": {
    "colab_type": "text",
    "id": "OXSZeV2gTYZQ"
   },
   "source": [
    "# Neural Networks Experiments\n",
    "\n",
    "## Estudiantes: <br>\n",
    "Tomás Rojas <br>\n",
    "Matías Montagna <br>\n",
    "Alonso Utreras\n",
    "\n",
    "## The objective of this notebook is to show the results from different models, including different inputs, but trying to get the same output."
   ]
  },
  {
   "cell_type": "code",
   "execution_count": null,
   "metadata": {},
   "outputs": [],
   "source": [
    "# Get data\n",
    "import pandas as pd\n",
    "import torch\n",
    "import torch.optim as optim\n",
    "import numpy as np\n",
    "from sklearn.model_selection import train_test_split\n",
    "\n",
    "all_data = pd.read_csv(\".\\data_product_temp_mp25\")"
   ]
  },
  {
   "cell_type": "code",
   "execution_count": null,
   "metadata": {},
   "outputs": [],
   "source": [
    "all_data = all_data.dropna()\n",
    "X = all_data[all_data.columns[-4]]\n",
    "Y = all_data[all_data.columns[-2]]\n",
    "# Y = all_data[all_data.columns[:-4]].join(Y) # para que tenga todo\n",
    "\n"
   ]
  },
  {
   "cell_type": "code",
   "execution_count": null,
   "metadata": {},
   "outputs": [],
   "source": [
    "all_data.head()"
   ]
  },
  {
   "cell_type": "code",
   "execution_count": null,
   "metadata": {},
   "outputs": [],
   "source": [
    "X.head()"
   ]
  },
  {
   "cell_type": "code",
   "execution_count": null,
   "metadata": {},
   "outputs": [],
   "source": [
    "Y.head()"
   ]
  },
  {
   "cell_type": "markdown",
   "metadata": {},
   "source": [
    "### Dividing data into train, test and validation sets\n",
    "We chose a train size of 70% of all data, while 15% corresponds to test and 15% to validation data."
   ]
  },
  {
   "cell_type": "code",
   "execution_count": null,
   "metadata": {},
   "outputs": [],
   "source": [
    "test_data_size = int(len(all_data) * 0.7)\n",
    "\n",
    "train_data = all_data[:-test_data_size]\n",
    "test_data = all_data[-test_data_size:]\n",
    "\n",
    "# We can do this if sklearn works fine with DataFrames\n",
    "X_train, X_2, y_train, y_2 = train_test_split(X, Y, test_size=0.3, random_state=42)\n",
    "X_test, X_val, y_test, y_val = train_test_split(X_2, y_2, test_size=0.3, random_state=42)\n",
    "\n"
   ]
  },
  {
   "cell_type": "code",
   "execution_count": null,
   "metadata": {},
   "outputs": [],
   "source": [
    "x_train_np = np.asarray(X_train.values)\n",
    "\n",
    "\n",
    "y_train_np = np.asarray(y_train.values)\n",
    "y_train_np"
   ]
  },
  {
   "cell_type": "code",
   "execution_count": null,
   "metadata": {
    "tags": []
   },
   "outputs": [],
   "source": [
    "# device = ('cuda' if torch.cuda.is_available() else 'cpu')\n",
    "device = 'cpu'\n",
    "print(device)\n",
    "\n",
    "X_train = torch.from_numpy(x_train_np).to(device)\n",
    "y_train = torch.from_numpy(y_train_np).to(device)"
   ]
  },
  {
   "cell_type": "markdown",
   "metadata": {},
   "source": [
    "### Normalizing train data:\n",
    "We read here https://stackabuse.com/time-series-prediction-using-lstm-with-pytorch-in-python/\n",
    "that it is important to normalize data when working with time series. \n",
    "\n"
   ]
  },
  {
   "cell_type": "code",
   "execution_count": null,
   "metadata": {},
   "outputs": [],
   "source": [
    "from sklearn.preprocessing import MinMaxScaler\n",
    "\n",
    "\n",
    "scaler = MinMaxScaler(feature_range=(-1, 1))\n",
    "train_data_normalized = scaler.fit_transform(train_data.reshape(-1, 1))\n",
    "\n",
    "# Transforming data into tensors\n",
    "train_data_normalized = torch.FloatTensor(train_data_normalized).view(-1)\n"
   ]
  },
  {
   "cell_type": "markdown",
   "metadata": {},
   "source": [
    "## Classes for training our models:"
   ]
  },
  {
   "cell_type": "markdown",
   "metadata": {},
   "source": [
    "## First model, which is a simple ff NN using just date.\n",
    "Simple feedforward NN\n",
    "Input: Date"
   ]
  },
  {
   "cell_type": "code",
   "execution_count": null,
   "metadata": {},
   "outputs": [],
   "source": [
    "import models as m\n",
    "\n",
    "# a = m.SimpleFCModel(1, 1)\n",
    "\n",
    "modelo_1_temp_pm = torch.nn.Sequential(\n",
    "    torch.nn.Linear(1, 5),\n",
    "    torch.nn.ReLU(),\n",
    "    torch.nn.Linear(5, 1),\n",
    ").to(device)\n",
    "\n",
    "loss_1 = torch.nn.L1Loss(reduction='mean')\n",
    "\n",
    "\n"
   ]
  },
  {
   "cell_type": "markdown",
   "metadata": {},
   "source": [
    "## Training function"
   ]
  },
  {
   "cell_type": "code",
   "execution_count": null,
   "metadata": {},
   "outputs": [],
   "source": [
    "import time\n",
    "\n",
    "# TODO: Completar\n",
    "def batcher(training_data, batch_size=365*24):\n",
    "    \"\"\"This generates our batches. Given the  \"\"\"\n",
    "    inout_seq = []\n",
    "    L = len(training_data)\n",
    "    for i in range(L-batch_size):\n",
    "        train_seq = input_data[i:i+batch_size]\n",
    "        train_label = input_data[i+batch_size:i+batch_size+1]\n",
    "        inout_seq.append((train_seq ,train_label))\n",
    "    return inout_seq\n",
    "\n",
    "\n",
    "def train(model, x_train, y_train, optimizer, loss_function, epochs=5, batch_size=365*24):\n",
    "    model.train()\n",
    "    total_loss = 0\n",
    "    for i in range(epochs):\n",
    "        for x_i, y_i in zip(x_train, y_train):\n",
    "            optimizer.zero_grad()\n",
    "            y_pred = model(x_i)\n",
    "\n",
    "            loss = loss_function(y_pred, y_train)\n",
    "            total_loss += loss.item()\n",
    "            loss.backward()\n",
    "            optimizer.step()\n",
    "\n",
    "        print(f'epoch: {i} loss: {loss.item():10.8f}')\n",
    "    \n",
    "    return total_loss\n",
    "\n",
    "def epoch_time(start_time, end_time):\n",
    "    elapsed_time = end_time - start_time\n",
    "    elapsed_mins = int(elapsed_time / 60)\n",
    "    elapsed_secs = int(elapsed_time - (elapsed_mins * 60))\n",
    "    return elapsed_mins, elapsed_secs\n",
    "\n",
    "def test(model, x_test, y_test, loss_function, batch_size=365*24):\n",
    "    model.eval()\n",
    "    total_loss = 0\n",
    "\n",
    "    with torch.no_grad():\n",
    "        for x_i, y_i in zip(x_test, y_test):\n",
    "            # predict data using the given model\n",
    "            prediction = model(x_i)\n",
    "            # Compute loss\n",
    "            total_loss += loss_function(prediction, y_i).item()\n",
    "\n",
    "    print(total_loss)\n",
    "    return total_loss\n"
   ]
  },
  {
   "cell_type": "markdown",
   "metadata": {},
   "source": [
    "### Execute Training and Testing:"
   ]
  },
  {
   "cell_type": "code",
   "execution_count": null,
   "metadata": {},
   "outputs": [],
   "source": [
    "# Hyperparamters\n",
    "n_epochs = 3\n"
   ]
  },
  {
   "cell_type": "code",
   "execution_count": null,
   "metadata": {},
   "outputs": [],
   "source": [
    "# Execute training\n",
    "def execute_training(model, x_train, y_train, x_test, y_test, optimizer, loss_function,  n_epochs=5, batch_size=365*24):\n",
    "    # Train\n",
    "    best_valid_loss = float('inf')\n",
    "\n",
    "    start_time = time.time()\n",
    "    train_loss = train(model, x_train, y_train, optimizer, loss_function, n_epochs, batch_size)\n",
    "    end_time = time.time();\n",
    "    train_time = end_time - start_time\n",
    "\n",
    "    print(f'Training time = {train_time}')\n",
    "    print(f'Train Loss: {train_loss}')\n",
    "\n",
    "    # # Test\n",
    "    start_time = time.time()\n",
    "\n",
    "    valid_loss = test(model, x_test, y_test, loss_function, batch_size)\n",
    "    end_time = time.time()\n",
    "    test_time = end_time - start_time \n",
    "\n",
    "    print(f'\\t Val. Loss: {valid_loss:.3f}')\n",
    "\n",
    "    # Save results from the best trained model\n",
    "    if valid_loss < best_valid_loss:\n",
    "        best_valid_loss = valid_loss\n",
    "        # torch.save(model.state_dict())\n"
   ]
  },
  {
   "cell_type": "code",
   "execution_count": null,
   "metadata": {},
   "outputs": [],
   "source": [
    "\n",
    "# # Load the model with best results in the validation dataset\n",
    "# model.load_state_dict(torch.load('{}.pt'.format(model_name)))\n",
    "\n",
    "# Limpiar ram de cuda\n",
    "torch.cuda.empty_cache()"
   ]
  },
  {
   "cell_type": "markdown",
   "metadata": {},
   "source": [
    "## TODO: Plot predictions v/s real data"
   ]
  },
  {
   "cell_type": "code",
   "execution_count": null,
   "metadata": {},
   "outputs": [],
   "source": [
    "model = modelo_1_temp_pm\n",
    "loss = loss_1\n",
    "# optimizer = optim.SGD(model.parameters(), lr=0.01, momentum=0.9)\n",
    "optimizer = optim.Adam(model.parameters())"
   ]
  },
  {
   "cell_type": "code",
   "execution_count": null,
   "metadata": {},
   "outputs": [],
   "source": [
    "# X_train = X_train.transpose(0, 1)\n",
    "# y_train = y_train.transpose(0, 1)\n",
    "X_tensor = X_train.view(-1, 1)\n",
    "y_tensor = y_train.view(-1, 1)\n",
    "# X_tensor = X_tensor.transpose(0, 1)\n",
    "# y_tensor = y_tensor.transpose(0, 1)"
   ]
  },
  {
   "cell_type": "code",
   "execution_count": null,
   "metadata": {},
   "outputs": [],
   "source": [
    "X_train = X_tensor[0:40000]\n",
    "y_train = y_tensor[0:40000]\n",
    "X_test = X_tensor[40000:41000]\n",
    "y_test = y_tensor[40000:41000]"
   ]
  },
  {
   "cell_type": "code",
   "execution_count": null,
   "metadata": {
    "tags": []
   },
   "outputs": [],
   "source": [
    "execute_training(model.double(), X_train, y_train, X_test, y_test, optimizer, loss, n_epochs=5)"
   ]
  },
  {
   "cell_type": "code",
   "execution_count": null,
   "metadata": {},
   "outputs": [],
   "source": []
  }
 ],
 "metadata": {
  "colab": {
   "name": "Proyecto_de_ML_prediccion_PM.ipynb",
   "provenance": [],
   "toc_visible": true
  },
  "kernelspec": {
   "display_name": "Python 3.7.6 64-bit ('base': conda)",
   "language": "python",
   "name": "python37664bitbaseconda768978131ac44bf49e7b16a08459a01b"
  },
  "language_info": {
   "codemirror_mode": {
    "name": "ipython",
    "version": 3
   },
   "file_extension": ".py",
   "mimetype": "text/x-python",
   "name": "python",
   "nbconvert_exporter": "python",
   "pygments_lexer": "ipython3",
   "version": "3.7.6-final"
  }
 },
 "nbformat": 4,
 "nbformat_minor": 1
}