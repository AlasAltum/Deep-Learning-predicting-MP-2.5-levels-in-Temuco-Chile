{
  "nbformat": 4,
  "nbformat_minor": 0,
  "metadata": {
    "colab": {
      "name": "NN_Experiments_Sequential.ipynb",
      "provenance": [],
      "collapsed_sections": [],
      "toc_visible": true
    },
    "kernelspec": {
      "display_name": "Python 3.7.6 64-bit ('base': conda)",
      "language": "python",
      "name": "python37664bitbaseconda768978131ac44bf49e7b16a08459a01b"
    },
    "language_info": {
      "codemirror_mode": {
        "name": "ipython",
        "version": 3
      },
      "file_extension": ".py",
      "mimetype": "text/x-python",
      "name": "python",
      "nbconvert_exporter": "python",
      "pygments_lexer": "ipython3",
      "version": "3.7.6-final"
    },
    "accelerator": "GPU"
  },
  "cells": [
    {
      "cell_type": "markdown",
      "metadata": {
        "colab_type": "text",
        "id": "OXSZeV2gTYZQ"
      },
      "source": [
        "# Neural Networks Experiments\n",
        "\n",
        "## Students: <br>\n",
        "Tomás Rojas <br>\n",
        "Matías Montagna <br>\n",
        "Alonso Utreras\n",
        "\n",
        "## The objective of this notebook is to show the results from different models, including different inputs, but trying to get the same output."
      ]
    },
    {
      "cell_type": "code",
      "metadata": {
        "id": "66E5_LUoAqQ7",
        "colab_type": "code",
        "colab": {
          "base_uri": "https://localhost:8080/",
          "height": 217
        },
        "outputId": "81241fb0-b72e-4fac-95fd-d33cc3ca00c2"
      },
      "source": [
        "!wget https://github.com/AlasAltum/Proyecto_ML_MP2.5/blob/master/data/cleaned-data/temuco_cleaned_data.csv"
      ],
      "execution_count": null,
      "outputs": [
        {
          "output_type": "stream",
          "text": [
            "--2020-08-18 02:16:39--  https://github.com/AlasAltum/Proyecto_ML_MP2.5/blob/master/data/cleaned-data/temuco_cleaned_data.csv\n",
            "Resolving github.com (github.com)... 140.82.113.3\n",
            "Connecting to github.com (github.com)|140.82.113.3|:443... connected.\n",
            "HTTP request sent, awaiting response... 200 OK\n",
            "Length: unspecified [text/html]\n",
            "Saving to: ‘temuco_cleaned_data.csv’\n",
            "\n",
            "temuco_cleaned_data     [  <=>               ]  75.37K   212KB/s    in 0.4s    \n",
            "\n",
            "2020-08-18 02:16:40 (212 KB/s) - ‘temuco_cleaned_data.csv’ saved [77183]\n",
            "\n"
          ],
          "name": "stdout"
        }
      ]
    },
    {
      "cell_type": "code",
      "metadata": {
        "id": "0HvN935vAIOt",
        "colab_type": "code",
        "colab": {
          "base_uri": "https://localhost:8080/",
          "height": 35
        },
        "outputId": "ea0513a5-3d0b-4242-afbe-53efed18fb05"
      },
      "source": [
        "%%file log_info.py\n",
        "\n",
        "\"\"\"Log Info. Stores info from a model to record it.\"\"\"\n",
        "\n",
        "\n",
        "class LogInfo():\n",
        "\n",
        "    def __init__(self, model, logging_name):\n",
        "        self.model = model\n",
        "        self.training_info = []\n",
        "        self.model_loss = {'train': 0, 'test': 0}\n",
        "        self.training_set_size = 0\n",
        "        self.training_time = 0.\n",
        "        self.testing_set_size = 0\n",
        "        self.commentary = \"\"\n",
        "        self.logging_name = logging_name\n",
        "\n",
        "    def set_comment(self, commentary):\n",
        "        self.commentary = commentary\n",
        "\n",
        "    def add_info(self, info):\n",
        "        self.commentary += info + '\\n'\n",
        "\n",
        "    def add_model_loss(self, t_set, loss):\n",
        "        self.model_loss[t_set] = loss\n",
        "\n",
        "    def set_train_test_size(self, x_train, x_test):\n",
        "        try:\n",
        "            self.training_set_size = x_train.shape\n",
        "            self.testing_set_size = x_test.shape\n",
        "\n",
        "        except:\n",
        "            self.training_set_size = x_train\n",
        "            self.testing_set_size = x_test\n",
        "\n",
        "    def set_training_time(self, time):\n",
        "        self.training_time = time\n",
        "\n",
        "    def export_info(self):\n",
        "        with open(f\"./{self.logging_name}.log\", 'w') as f:\n",
        "            print(f'{str(self)}', file=f)\n",
        "\n",
        "    def __str__(self):\n",
        "        return f\"\"\"Model Name: {self.model.name}\n",
        "        Loss: {self.model_loss}\n",
        "        Training Set Size: {self.training_set_size}\n",
        "        Training time: {self.training_time}\n",
        "        Testing Set Size: {self.testing_set_size}\n",
        "        ------------------------------------------\n",
        "        Additional Comments:\n",
        "        {self.commentary}\n",
        "        \"\"\"\n",
        "\n"
      ],
      "execution_count": 3,
      "outputs": [
        {
          "output_type": "stream",
          "text": [
            "Overwriting log_info.py\n"
          ],
          "name": "stdout"
        }
      ]
    },
    {
      "cell_type": "code",
      "metadata": {
        "tags": [],
        "id": "Nw3Xgy_Q_1C0",
        "colab_type": "code",
        "colab": {}
      },
      "source": [
        "import pandas as pd\n",
        "import torch\n",
        "import torch.optim as optim\n",
        "from torch import nn\n",
        "import numpy as np\n",
        "from sklearn.model_selection import train_test_split\n",
        "import log_info as log\n",
        "\n",
        "# Get data\n",
        "all_data = pd.read_csv(r\"./temuco_cleaned_data.csv\", delimiter=',')\n",
        "\n",
        "all_data = all_data.dropna()\n",
        "\n",
        "all_data[\"mp_25\"] = all_data[\"mp_2,5\"]\n",
        "all_data = all_data.drop([\"mp_2,5\"], axis=1)\n",
        "\n",
        "X = all_data[all_data.columns[2:-1]]\n",
        "\n",
        "# X = X[['direccion_viento','humedad_relativa', 'precipitaciones','presion_atmosferica','temperatura_ambiente','velocidad_viento']]\n",
        "\n",
        "X = X[['direccion_viento', 'humedad_relativa', 'precipitaciones', 'presion_atmosferica', 'temperatura_ambiente' ,'velocidad_viento']]\n",
        "\n",
        "Y = all_data[all_data.columns[-1]]\n"
      ],
      "execution_count": 34,
      "outputs": []
    },
    {
      "cell_type": "code",
      "metadata": {
        "id": "BTmn1nGG_1DB",
        "colab_type": "code",
        "colab": {
          "base_uri": "https://localhost:8080/",
          "height": 206
        },
        "outputId": "82c4e18d-86cf-4244-e753-bec9c0369089"
      },
      "source": [
        "X.head()"
      ],
      "execution_count": 35,
      "outputs": [
        {
          "output_type": "execute_result",
          "data": {
            "text/html": [
              "<div>\n",
              "<style scoped>\n",
              "    .dataframe tbody tr th:only-of-type {\n",
              "        vertical-align: middle;\n",
              "    }\n",
              "\n",
              "    .dataframe tbody tr th {\n",
              "        vertical-align: top;\n",
              "    }\n",
              "\n",
              "    .dataframe thead th {\n",
              "        text-align: right;\n",
              "    }\n",
              "</style>\n",
              "<table border=\"1\" class=\"dataframe\">\n",
              "  <thead>\n",
              "    <tr style=\"text-align: right;\">\n",
              "      <th></th>\n",
              "      <th>direccion_viento</th>\n",
              "      <th>humedad_relativa</th>\n",
              "      <th>precipitaciones</th>\n",
              "      <th>presion_atmosferica</th>\n",
              "      <th>temperatura_ambiente</th>\n",
              "      <th>velocidad_viento</th>\n",
              "    </tr>\n",
              "  </thead>\n",
              "  <tbody>\n",
              "    <tr>\n",
              "      <th>0</th>\n",
              "      <td>264.0</td>\n",
              "      <td>71.0</td>\n",
              "      <td>0.0</td>\n",
              "      <td>1001.0</td>\n",
              "      <td>11.9</td>\n",
              "      <td>1.4</td>\n",
              "    </tr>\n",
              "    <tr>\n",
              "      <th>1</th>\n",
              "      <td>263.0</td>\n",
              "      <td>74.0</td>\n",
              "      <td>0.0</td>\n",
              "      <td>1001.0</td>\n",
              "      <td>11.2</td>\n",
              "      <td>1.4</td>\n",
              "    </tr>\n",
              "    <tr>\n",
              "      <th>2</th>\n",
              "      <td>288.0</td>\n",
              "      <td>77.0</td>\n",
              "      <td>0.0</td>\n",
              "      <td>1000.0</td>\n",
              "      <td>10.6</td>\n",
              "      <td>1.0</td>\n",
              "    </tr>\n",
              "    <tr>\n",
              "      <th>3</th>\n",
              "      <td>273.0</td>\n",
              "      <td>81.0</td>\n",
              "      <td>0.0</td>\n",
              "      <td>1000.0</td>\n",
              "      <td>10.1</td>\n",
              "      <td>1.2</td>\n",
              "    </tr>\n",
              "    <tr>\n",
              "      <th>4</th>\n",
              "      <td>263.0</td>\n",
              "      <td>83.0</td>\n",
              "      <td>0.0</td>\n",
              "      <td>1001.0</td>\n",
              "      <td>10.0</td>\n",
              "      <td>1.2</td>\n",
              "    </tr>\n",
              "  </tbody>\n",
              "</table>\n",
              "</div>"
            ],
            "text/plain": [
              "   direccion_viento  humedad_relativa  ...  temperatura_ambiente  velocidad_viento\n",
              "0             264.0              71.0  ...                  11.9               1.4\n",
              "1             263.0              74.0  ...                  11.2               1.4\n",
              "2             288.0              77.0  ...                  10.6               1.0\n",
              "3             273.0              81.0  ...                  10.1               1.2\n",
              "4             263.0              83.0  ...                  10.0               1.2\n",
              "\n",
              "[5 rows x 6 columns]"
            ]
          },
          "metadata": {
            "tags": []
          },
          "execution_count": 35
        }
      ]
    },
    {
      "cell_type": "code",
      "metadata": {
        "id": "-fNMjKJhgNW0",
        "colab_type": "code",
        "colab": {
          "base_uri": "https://localhost:8080/",
          "height": 283
        },
        "outputId": "9bbb54dc-168a-4e48-90fc-c7e654b776d9"
      },
      "source": [
        "datita = all_data[all_data['mp_25'] < 300]\n",
        "datita = datita[datita['mp_25'] > 0]\n",
        "\n",
        "X = datita[datita.columns[2:-1]]\n",
        "Y = datita[datita.columns[-1]]\n",
        "Y.hist(bins=30)"
      ],
      "execution_count": 36,
      "outputs": [
        {
          "output_type": "execute_result",
          "data": {
            "text/plain": [
              "<matplotlib.axes._subplots.AxesSubplot at 0x7f3764840b70>"
            ]
          },
          "metadata": {
            "tags": []
          },
          "execution_count": 36
        },
        {
          "output_type": "display_data",
          "data": {
            "image/png": "[encoded data removed]",
            "text/plain": [
              "<Figure size 432x288 with 1 Axes>"
            ]
          },
          "metadata": {
            "tags": [],
            "needs_background": "light"
          }
        }
      ]
    },
    {
      "cell_type": "markdown",
      "metadata": {
        "id": "OD1MTUo-_1DS",
        "colab_type": "text"
      },
      "source": [
        "### Dividing data into train, test and validation sets\n",
        "We chose a train size of 70% of all data, while 15% corresponds to test and 15% to validation data."
      ]
    },
    {
      "cell_type": "code",
      "metadata": {
        "id": "IYdrM5Dz_1DT",
        "colab_type": "code",
        "colab": {}
      },
      "source": [
        "import torch.utils.data as data_utils\n",
        "\n",
        "_X_train, _X_test, _y_train, _y_test = train_test_split(X, Y, test_size=0.15, random_state=42)\n"
      ],
      "execution_count": 37,
      "outputs": []
    },
    {
      "cell_type": "code",
      "metadata": {
        "id": "EZpNlzzC_1DY",
        "colab_type": "code",
        "colab": {}
      },
      "source": [
        "from sklearn.preprocessing import MinMaxScaler\n",
        "\n",
        "x_train_np = np.asarray(_X_train.values)\n",
        "y_train_np = np.asarray(_y_train.values)\n",
        "\n",
        "x_test_np = np.asarray(_X_test.values)\n",
        "y_test_np = np.asarray(_y_test.values)\n",
        "\n",
        "scaler = MinMaxScaler(feature_range=(-1, 1))\n",
        "X_train_normalized = scaler.fit_transform(x_train_np)\n",
        "y_train_normalized = scaler.fit_transform(y_train_np.reshape(-1, 1))\n",
        "\n",
        "X_test_normalized = scaler.fit_transform(x_test_np)\n",
        "y_test_normalized = scaler.fit_transform(y_test_np.reshape(-1, 1))\n",
        "\n",
        "# train = data_utils.TensorDataset(torch.Tensor(np.array(_X_train)), torch.Tensor(np.array(_y_train)))\n",
        "# train_loader = data_utils.DataLoader(train, batch_size = 24, shuffle = True)\n",
        "\n",
        "# test = data_utils.TensorDataset(torch.Tensor(np.array(_X_test)), torch.Tensor(np.array(_y_val)))\n",
        "# test_loader = data_utils.DataLoader(train, batch_size = 24, shuffle = True)\n",
        "\n",
        "\n",
        "# train_data_normalized = torch.FloatTensor(X_train).view(-1)"
      ],
      "execution_count": 38,
      "outputs": []
    },
    {
      "cell_type": "code",
      "metadata": {
        "id": "5AyjSv3B_1Dh",
        "colab_type": "code",
        "colab": {}
      },
      "source": [
        "train_dataloader = data_utils.TensorDataset(torch.Tensor(np.array(_X_train)), torch.Tensor(np.array(_y_train)))\n",
        "train_loader = data_utils.DataLoader(train_dataloader, batch_size = 24, shuffle = False)\n",
        "\n",
        "\n",
        "test_dataloader = data_utils.TensorDataset(torch.Tensor(np.array(X_test_normalized)), torch.Tensor(np.array(y_test_normalized)))\n",
        "test_loader = data_utils.DataLoader(test_dataloader, batch_size = 24, shuffle = False)"
      ],
      "execution_count": 39,
      "outputs": []
    },
    {
      "cell_type": "markdown",
      "metadata": {
        "id": "hSJG3FDd_1Dn",
        "colab_type": "text"
      },
      "source": [
        "### Setting device to work with. Use cuda if available."
      ]
    },
    {
      "cell_type": "code",
      "metadata": {
        "tags": [],
        "id": "CaCtUGLM_1Do",
        "colab_type": "code",
        "colab": {
          "base_uri": "https://localhost:8080/",
          "height": 35
        },
        "outputId": "d4ddc276-b242-4f04-f7ae-eebd0ea6633f"
      },
      "source": [
        "device = ('cuda' if torch.cuda.is_available() else 'cpu')\n",
        "print(device)"
      ],
      "execution_count": 40,
      "outputs": [
        {
          "output_type": "stream",
          "text": [
            "cuda\n"
          ],
          "name": "stdout"
        }
      ]
    },
    {
      "cell_type": "markdown",
      "metadata": {
        "id": "89q58IVp_1Dv",
        "colab_type": "text"
      },
      "source": [
        "## Classes for training our models:"
      ]
    },
    {
      "cell_type": "markdown",
      "metadata": {
        "id": "hmdPSUUP_1Dx",
        "colab_type": "text"
      },
      "source": [
        "## First model, which is a simple ff NN using just date.\n",
        "Simple feedforward NN\n",
        "Input: Date"
      ]
    },
    {
      "cell_type": "code",
      "metadata": {
        "tags": [],
        "id": "w3G8B8cQ_1Dy",
        "colab_type": "code",
        "colab": {}
      },
      "source": [
        "import torch.nn as nn\n",
        "import torch.nn.functional as F\n",
        "\n",
        "class SimpleDoubleModel(nn.Module):\n",
        "    \"\"\" Simple feedforward network of two fully connected layers\"\"\"\n",
        "    def __init__(self, input_size, hidden_size, output_size=1, model_name='Three Fully Connected Layers'):\n",
        "        super().__init__()\n",
        "        self.fc1 = nn.Linear(input_size, hidden_size)\n",
        "        self.fc2 = nn.Linear(hidden_size, output_size)\n",
        "        self.fc3 = nn.Linear(output_size, output_size)\n",
        "        self.dropout = nn.Dropout(0.25)\n",
        "        self.logsigmoid = nn.LogSigmoid()\n",
        "\n",
        "        self.name = model_name\n",
        "\n",
        "    def forward(self, x):\n",
        "        x = F.relu(self.dropout(self.fc1(x)))\n",
        "        x = self.logsigmoid(self.dropout(self.fc2(x)))\n",
        "        x = self.fc3(x)\n",
        "\n",
        "        return x\n",
        "\n",
        "\n",
        "\n",
        "# Setting model to use and its name\n",
        "model_name = \"Three fully connected models\"\n",
        "# model_1_temp_pm = LSTMModel(6, 128, 3, 1, model_name)\n",
        "\n",
        "model = SimpleDoubleModel(6, 128, 1, \"Three fully connected\")\n",
        "loss_1 = nn.MSELoss(reduction = 'sum')\n",
        "\n",
        "# Setting model, loss and optimizer\n",
        "loss = loss_1.to(device)\n",
        "optimizer = optim.Adam(model.parameters())\n",
        "\n",
        "# Setting logger\n",
        "Logger = log.LogInfo(\n",
        "    model=model,\n",
        "    logging_name=model_name\n",
        "    )\n",
        "Logger.add_info(model_name)\n",
        "\n",
        "# Hyperparamters\n",
        "n_epochs = 7"
      ],
      "execution_count": 41,
      "outputs": []
    },
    {
      "cell_type": "markdown",
      "metadata": {
        "id": "u5YGQd0I_1D2",
        "colab_type": "text"
      },
      "source": [
        "## Training function"
      ]
    },
    {
      "cell_type": "code",
      "metadata": {
        "id": "rz85eEcM_1D3",
        "colab_type": "code",
        "colab": {}
      },
      "source": [
        "import time\n",
        "from torch.autograd import Variable\n",
        "\n",
        "\n",
        "def init_weights(model):\n",
        "    # Inicializamos los pesos como aleatorios\n",
        "    for name, param in model.named_parameters():\n",
        "        nn.init.normal_(param.data, mean=0, std=0.1) \n",
        "\n",
        "def count_parameters(model):\n",
        "    return sum(p.numel() for p in model.parameters() if p.requires_grad)\n",
        "\n",
        "\n",
        "def train(model, train_loader, optimizer, loss_function, epochs):\n",
        "    model.train()\n",
        "    total_loss = 0\n",
        "\n",
        "    for i in range(epochs):\n",
        "        # each epoch\n",
        "        epoch_loss = 0\n",
        "        best_test_loss = float('inf')\n",
        "        # /_input.size()[1], 1 , self.input_size)\n",
        "        # x_i => (1 , self.input_size)\n",
        "        # x_i.size[1]\n",
        "\n",
        "        for x_i, y_i in train_loader:\n",
        "\n",
        "            # x_i = x_i.view(-1, 6, 1)\n",
        "            x_i, y_i = Variable(x_i), Variable(y_i)\n",
        "            # Each batch\n",
        "            y_i = y_i.double()\n",
        "\n",
        "            optimizer.zero_grad()\n",
        "            y_pred = model(x_i.double()).double()\n",
        "      \n",
        "            y_pred = y_pred.view(-1, y_pred.shape[-1])\n",
        "            y_i = y_i.view(y_pred.shape)\n",
        "\n",
        "            loss = loss_function(y_pred, y_i)\n",
        "            epoch_loss += loss.item()\n",
        "            loss.backward()\n",
        "            optimizer.step()\n",
        "\n",
        "        # Save results from the best trained model\n",
        "        if epoch_loss < best_test_loss:\n",
        "            best_test_loss = epoch_loss\n",
        "            torch.save(model.state_dict(), '{}.pt'.format(model.name))\n",
        "            \n",
        "        total_loss += epoch_loss\n",
        "        print(f'epoch: {i} loss: {epoch_loss:10.8f}')\n",
        "\n",
        "    return total_loss\n",
        "\n",
        "def epoch_time(start_time, end_time):\n",
        "    elapsed_time = end_time - start_time\n",
        "    elapsed_mins = int(elapsed_time / 60)\n",
        "    elapsed_secs = int(elapsed_time - (elapsed_mins * 60))\n",
        "    return elapsed_mins, elapsed_secs\n",
        "\n",
        "def test(model, test_loader, loss_function):\n",
        "    model.eval()\n",
        "    total_loss = 0\n",
        "\n",
        "    with torch.no_grad():\n",
        "        for x_i, y_i in test_loader:\n",
        "            # predict data using the given model\n",
        "            y_pred = model(x_i.double())\n",
        "            # Compute loss\n",
        "                  \n",
        "            y_pred = y_pred.view(-1, y_pred.shape[-1])\n",
        "            y_i = y_i.view(y_pred.shape)\n",
        "            \n",
        "            total_loss += loss_function(y_pred, y_i).item()\n",
        "\n",
        "    print(total_loss)\n",
        "    return total_loss\n",
        "\n",
        "def load_best_model(model):\n",
        "    return model.load_state_dict(torch.load(f'{model.name}.pt'))"
      ],
      "execution_count": 42,
      "outputs": []
    },
    {
      "cell_type": "markdown",
      "metadata": {
        "id": "jMua2UWC_1D7",
        "colab_type": "text"
      },
      "source": [
        "### Execute Training and Testing:"
      ]
    },
    {
      "cell_type": "code",
      "metadata": {
        "id": "fl7WGyZG_1D_",
        "colab_type": "code",
        "colab": {}
      },
      "source": [
        "# Execute training\n",
        "def execute_training(model, train_loader, test_loader, optimizer, loss_function, logger, n_epochs=5):\n",
        "    # Train\n",
        "\n",
        "    start_time = time.time()\n",
        "    train_loss = train(model, train_loader, optimizer, loss_function, n_epochs)\n",
        "    end_time = time.time();\n",
        "    train_time = end_time - start_time\n",
        "\n",
        "    print(f'Training time = {train_time}')\n",
        "    print(f'Train Loss: {train_loss}')\n",
        "\n",
        "    # Test\n",
        "    start_time = time.time()\n",
        "\n",
        "    test_loss = test(model,  test_loader, loss_function)\n",
        "    end_time = time.time()\n",
        "    test_time = end_time - start_time \n",
        "\n",
        "    print(f'\\t Val. Loss: {test_loss:.3f}')\n",
        "\n",
        "    logger.model_loss['train'] = train_loss\n",
        "    logger.model_loss['test'] = test_loss\n",
        "    logger.set_train_test_size(len(train_loader), len(test_loader))\n",
        "    logger.set_training_time(train_time)\n",
        "    # logger.set_epochs(n_epochs)\n",
        "    # logger.set_optimizer(optimizer)\n",
        "\n"
      ],
      "execution_count": 43,
      "outputs": []
    },
    {
      "cell_type": "code",
      "metadata": {
        "id": "Dcr-l2QX_1ED",
        "colab_type": "code",
        "colab": {}
      },
      "source": [
        "# Clean CUDA RAM\n",
        "# torch.cuda.empty_cache()"
      ],
      "execution_count": 44,
      "outputs": []
    },
    {
      "cell_type": "markdown",
      "metadata": {
        "id": "56h5xshO_1EI",
        "colab_type": "text"
      },
      "source": [
        "## Train and Test model "
      ]
    },
    {
      "cell_type": "markdown",
      "metadata": {
        "id": "KF9p7HHG_1EJ",
        "colab_type": "text"
      },
      "source": [
        "### Normalizing train data:\n",
        "We read here https://stackabuse.com/time-series-prediction-using-lstm-with-pytorch-in-python/\n",
        "that it is important to normalize data when working with time series. \n"
      ]
    },
    {
      "cell_type": "code",
      "metadata": {
        "tags": [],
        "id": "rr10Eh-u_1EK",
        "colab_type": "code",
        "colab": {
          "base_uri": "https://localhost:8080/",
          "height": 235
        },
        "outputId": "d4036594-ca3b-4292-e297-ee81703a4387"
      },
      "source": [
        "print(f'The current model contains {count_parameters(model)} trainable parameters.')     \n",
        "model.apply(init_weights)\n",
        "model = model.double()\n",
        "\n",
        "\n",
        "execute_training(\n",
        "    model=model,\n",
        "    train_loader=train_loader,\n",
        "    test_loader=test_loader,\n",
        "    optimizer=optimizer,\n",
        "    loss_function=loss,\n",
        "    logger=Logger,\n",
        "    n_epochs=n_epochs\n",
        "    )"
      ],
      "execution_count": 45,
      "outputs": [
        {
          "output_type": "stream",
          "text": [
            "The current model contains 1027 trainable parameters.\n",
            "epoch: 0 loss: 205016658.41413894\n",
            "epoch: 1 loss: 189085353.58082765\n",
            "epoch: 2 loss: 184556604.63164926\n",
            "epoch: 3 loss: 180283561.89349756\n",
            "epoch: 4 loss: 177727850.05476034\n",
            "epoch: 5 loss: 175736484.87561488\n",
            "epoch: 6 loss: 174692697.67744538\n",
            "Training time = 45.72111678123474\n",
            "Train Loss: 1287099211.127934\n",
            "27748781.45547806\n",
            "\t Val. Loss: 27748781.455\n"
          ],
          "name": "stdout"
        }
      ]
    },
    {
      "cell_type": "code",
      "metadata": {
        "id": "_ZxMJBox_1EQ",
        "colab_type": "code",
        "colab": {}
      },
      "source": [
        "load_best_model(model)\n",
        "\n",
        "# Export info to a logger to store results\n",
        "Logger.export_info()"
      ],
      "execution_count": 46,
      "outputs": []
    },
    {
      "cell_type": "markdown",
      "metadata": {
        "id": "pOBFGahw_1EU",
        "colab_type": "text"
      },
      "source": [
        "### Plotting predicted data vs real data using testing set"
      ]
    },
    {
      "cell_type": "code",
      "metadata": {
        "id": "eOFEDuHp_1EZ",
        "colab_type": "code",
        "colab": {}
      },
      "source": [
        "\n",
        "X_train = torch.from_numpy(np.array(_X_train))\n",
        "y_train = torch.from_numpy(np.array(_y_train))\n",
        "\n",
        "y_train_cpu = y_train.cpu().detach().numpy()\n",
        "\n",
        "y_pred = model(X_train)\n",
        "y_pred_cpu = y_pred.cpu().detach().numpy()\n"
      ],
      "execution_count": 47,
      "outputs": []
    },
    {
      "cell_type": "code",
      "metadata": {
        "tags": [],
        "id": "r7XXDFic_1El",
        "colab_type": "code",
        "colab": {
          "base_uri": "https://localhost:8080/",
          "height": 281
        },
        "outputId": "1482e6c2-df55-494d-fd1c-4e84e7b99da9"
      },
      "source": [
        "import matplotlib.pyplot as plt\n",
        "\n",
        "fig, ax = plt.subplots()\n",
        "\n",
        "\n",
        "plt.plot(y_train_cpu, \"b-\", label=\"results\")\n",
        "plt.plot(y_pred_cpu, \"r-\", label=\"predictions\")\n",
        "\n",
        "plt.ylabel(\"mp2.5\")\n",
        "plt.title(model.name)\n",
        "ax.legend()\n",
        "\n",
        "# plot results and store it in results directory\n",
        "plt.savefig(fname=f'./{model.name}.png')\n",
        "plt.show()"
      ],
      "execution_count": 48,
      "outputs": [
        {
          "output_type": "display_data",
          "data": {
            "image/png": "[encoded data removed]",
            "text/plain": [
              "<Figure size 432x288 with 1 Axes>"
            ]
          },
          "metadata": {
            "tags": [],
            "needs_background": "light"
          }
        }
      ]
    },
    {
      "cell_type": "code",
      "metadata": {
        "tags": [],
        "id": "UzhTx5Mh_1Eo",
        "colab_type": "code",
        "colab": {
          "base_uri": "https://localhost:8080/",
          "height": 35
        },
        "outputId": "bc64aaf6-819c-43d7-f9de-5df66788035c"
      },
      "source": [
        "from sklearn.metrics import r2_score\n",
        "\n",
        "r2_obtained = r2_score(y_train.cpu().detach().numpy(), y_pred.cpu().detach().numpy())\n",
        "\n",
        "print(r2_obtained)\n",
        "\n",
        "Logger.add_info(f\"r2 score={r2_obtained}\")\n",
        "Logger.export_info()"
      ],
      "execution_count": 49,
      "outputs": [
        {
          "output_type": "stream",
          "text": [
            "0.19889262289408816\n"
          ],
          "name": "stdout"
        }
      ]
    }
  ]
}