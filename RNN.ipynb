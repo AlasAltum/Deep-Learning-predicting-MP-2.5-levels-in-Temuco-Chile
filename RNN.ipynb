{
 "cells": [
  {
   "cell_type": "code",
   "execution_count": 1,
   "metadata": {
    "ExecuteTime": {
     "end_time": "2020-08-16T02:08:37.794174Z",
     "start_time": "2020-08-16T02:08:34.059156Z"
    },
    "colab": {
     "base_uri": "https://localhost:8080/",
     "height": 72
    },
    "colab_type": "code",
    "id": "zE-YPYA5pD4x",
    "outputId": "9820649e-36ca-48b8-dc50-da14e23edc26"
   },
   "outputs": [
    {
     "name": "stderr",
     "output_type": "stream",
     "text": [
      "/usr/local/lib/python3.6/dist-packages/statsmodels/tools/_testing.py:19: FutureWarning: pandas.util.testing is deprecated. Use the functions in the public API at pandas.testing instead.\n",
      "  import pandas.util.testing as tm\n"
     ]
    }
   ],
   "source": [
    "import pandas as pd\n",
    "import pickle\n",
    "import numpy as np\n",
    "import matplotlib.pyplot as plt\n",
    "import seaborn as sb\n",
    "import torch\n",
    "from torch import nn\n",
    "import torch.nn.functional as F\n",
    "from sklearn.model_selection import train_test_split\n",
    "import torch.optim as optim\n",
    "from torch.utils.data import Dataset, DataLoader\n",
    "from datetime import timedelta\n",
    "import warnings\n",
    "from preprocessing import get_consecutive\n",
    "from sklearn.cluster import KMeans\n",
    "warnings.filterwarnings(\"ignore\")"
   ]
  },
  {
   "cell_type": "markdown",
   "metadata": {
    "colab_type": "text",
    "id": "PHHjTWGgpD5C"
   },
   "source": [
    "# Preprocesamiento de los datos"
   ]
  },
  {
   "cell_type": "code",
   "execution_count": 2,
   "metadata": {
    "ExecuteTime": {
     "end_time": "2020-08-16T02:08:37.929558Z",
     "start_time": "2020-08-16T02:08:37.820895Z"
    },
    "colab": {
     "base_uri": "https://localhost:8080/",
     "height": 238
    },
    "colab_type": "code",
    "id": "QmP2wOGupD5E",
    "outputId": "ab3a0697-8659-43c1-e7c7-baf0bec46e04"
   },
   "outputs": [
    {
     "data": {
      "text/html": [
       "<div>\n",
       "<style scoped>\n",
       "    .dataframe tbody tr th:only-of-type {\n",
       "        vertical-align: middle;\n",
       "    }\n",
       "\n",
       "    .dataframe tbody tr th {\n",
       "        vertical-align: top;\n",
       "    }\n",
       "\n",
       "    .dataframe thead th {\n",
       "        text-align: right;\n",
       "    }\n",
       "</style>\n",
       "<table border=\"1\" class=\"dataframe\">\n",
       "  <thead>\n",
       "    <tr style=\"text-align: right;\">\n",
       "      <th></th>\n",
       "      <th>wind_dir</th>\n",
       "      <th>wind_vel</th>\n",
       "      <th>rel_hum</th>\n",
       "      <th>precipitations</th>\n",
       "      <th>temp</th>\n",
       "      <th>mp_25</th>\n",
       "    </tr>\n",
       "    <tr>\n",
       "      <th>datetime</th>\n",
       "      <th></th>\n",
       "      <th></th>\n",
       "      <th></th>\n",
       "      <th></th>\n",
       "      <th></th>\n",
       "      <th></th>\n",
       "    </tr>\n",
       "  </thead>\n",
       "  <tbody>\n",
       "    <tr>\n",
       "      <th>2014-03-24 14:00:00</th>\n",
       "      <td>210.0</td>\n",
       "      <td>3.550000</td>\n",
       "      <td>49.0</td>\n",
       "      <td>0.0</td>\n",
       "      <td>16.15</td>\n",
       "      <td>8.5</td>\n",
       "    </tr>\n",
       "    <tr>\n",
       "      <th>2014-03-24 16:00:00</th>\n",
       "      <td>211.5</td>\n",
       "      <td>4.150000</td>\n",
       "      <td>47.5</td>\n",
       "      <td>0.0</td>\n",
       "      <td>17.00</td>\n",
       "      <td>5.5</td>\n",
       "    </tr>\n",
       "    <tr>\n",
       "      <th>2014-03-24 18:00:00</th>\n",
       "      <td>243.5</td>\n",
       "      <td>3.500000</td>\n",
       "      <td>56.0</td>\n",
       "      <td>0.0</td>\n",
       "      <td>14.85</td>\n",
       "      <td>16.0</td>\n",
       "    </tr>\n",
       "    <tr>\n",
       "      <th>2014-03-24 20:00:00</th>\n",
       "      <td>269.5</td>\n",
       "      <td>1.600000</td>\n",
       "      <td>73.5</td>\n",
       "      <td>0.0</td>\n",
       "      <td>11.40</td>\n",
       "      <td>8.5</td>\n",
       "    </tr>\n",
       "    <tr>\n",
       "      <th>2014-03-24 22:00:00</th>\n",
       "      <td>300.5</td>\n",
       "      <td>0.799999</td>\n",
       "      <td>86.5</td>\n",
       "      <td>0.0</td>\n",
       "      <td>9.90</td>\n",
       "      <td>14.0</td>\n",
       "    </tr>\n",
       "  </tbody>\n",
       "</table>\n",
       "</div>"
      ],
      "text/plain": [
       "                     wind_dir  wind_vel  rel_hum  precipitations   temp  mp_25\n",
       "datetime                                                                      \n",
       "2014-03-24 14:00:00     210.0  3.550000     49.0             0.0  16.15    8.5\n",
       "2014-03-24 16:00:00     211.5  4.150000     47.5             0.0  17.00    5.5\n",
       "2014-03-24 18:00:00     243.5  3.500000     56.0             0.0  14.85   16.0\n",
       "2014-03-24 20:00:00     269.5  1.600000     73.5             0.0  11.40    8.5\n",
       "2014-03-24 22:00:00     300.5  0.799999     86.5             0.0   9.90   14.0"
      ]
     },
     "execution_count": 2,
     "metadata": {
      "tags": []
     },
     "output_type": "execute_result"
    }
   ],
   "source": [
    "# abriendo datos\n",
    "with open('./data/data_product_02.pk', 'rb') as f:\n",
    "    data = pickle.load(f)\n",
    "f.close()\n",
    "data_std = (data - data.mean())/data.std()\n",
    "data.head()"
   ]
  },
  {
   "cell_type": "code",
   "execution_count": 3,
   "metadata": {
    "ExecuteTime": {
     "end_time": "2020-08-16T02:08:43.097313Z",
     "start_time": "2020-08-16T02:08:37.973480Z"
    },
    "colab": {
     "base_uri": "https://localhost:8080/",
     "height": 324
    },
    "colab_type": "code",
    "id": "erOPEBuKpD5W",
    "outputId": "56337642-fdea-4364-d94a-60c18d6a3ac3"
   },
   "outputs": [
    {
     "data": {
      "text/html": [
       "<div>\n",
       "<style scoped>\n",
       "    .dataframe tbody tr th:only-of-type {\n",
       "        vertical-align: middle;\n",
       "    }\n",
       "\n",
       "    .dataframe tbody tr th {\n",
       "        vertical-align: top;\n",
       "    }\n",
       "\n",
       "    .dataframe thead th {\n",
       "        text-align: right;\n",
       "    }\n",
       "</style>\n",
       "<table border=\"1\" class=\"dataframe\">\n",
       "  <thead>\n",
       "    <tr style=\"text-align: right;\">\n",
       "      <th></th>\n",
       "      <th>wind_dir</th>\n",
       "      <th>wind_vel</th>\n",
       "      <th>rel_hum</th>\n",
       "      <th>precipitations</th>\n",
       "      <th>temp</th>\n",
       "      <th>mp_25</th>\n",
       "      <th>2_clusters</th>\n",
       "      <th>3_clusters</th>\n",
       "      <th>4_clusters</th>\n",
       "      <th>5_clusters</th>\n",
       "      <th>6_clusters</th>\n",
       "      <th>7_clusters</th>\n",
       "      <th>8_clusters</th>\n",
       "      <th>9_clusters</th>\n",
       "      <th>10_clusters</th>\n",
       "    </tr>\n",
       "    <tr>\n",
       "      <th>datetime</th>\n",
       "      <th></th>\n",
       "      <th></th>\n",
       "      <th></th>\n",
       "      <th></th>\n",
       "      <th></th>\n",
       "      <th></th>\n",
       "      <th></th>\n",
       "      <th></th>\n",
       "      <th></th>\n",
       "      <th></th>\n",
       "      <th></th>\n",
       "      <th></th>\n",
       "      <th></th>\n",
       "      <th></th>\n",
       "      <th></th>\n",
       "    </tr>\n",
       "  </thead>\n",
       "  <tbody>\n",
       "    <tr>\n",
       "      <th>2014-03-24 14:00:00</th>\n",
       "      <td>0.129948</td>\n",
       "      <td>1.434579</td>\n",
       "      <td>-1.733582</td>\n",
       "      <td>-0.207012</td>\n",
       "      <td>1.017230</td>\n",
       "      <td>8.5</td>\n",
       "      <td>1</td>\n",
       "      <td>0</td>\n",
       "      <td>3</td>\n",
       "      <td>0</td>\n",
       "      <td>5</td>\n",
       "      <td>0</td>\n",
       "      <td>1</td>\n",
       "      <td>0</td>\n",
       "      <td>0</td>\n",
       "    </tr>\n",
       "    <tr>\n",
       "      <th>2014-03-24 16:00:00</th>\n",
       "      <td>0.145960</td>\n",
       "      <td>1.881879</td>\n",
       "      <td>-1.811555</td>\n",
       "      <td>-0.207012</td>\n",
       "      <td>1.210544</td>\n",
       "      <td>5.5</td>\n",
       "      <td>1</td>\n",
       "      <td>0</td>\n",
       "      <td>3</td>\n",
       "      <td>0</td>\n",
       "      <td>5</td>\n",
       "      <td>0</td>\n",
       "      <td>1</td>\n",
       "      <td>0</td>\n",
       "      <td>0</td>\n",
       "    </tr>\n",
       "    <tr>\n",
       "      <th>2014-03-24 18:00:00</th>\n",
       "      <td>0.487556</td>\n",
       "      <td>1.397304</td>\n",
       "      <td>-1.369708</td>\n",
       "      <td>-0.207012</td>\n",
       "      <td>0.721575</td>\n",
       "      <td>16.0</td>\n",
       "      <td>1</td>\n",
       "      <td>0</td>\n",
       "      <td>3</td>\n",
       "      <td>0</td>\n",
       "      <td>5</td>\n",
       "      <td>0</td>\n",
       "      <td>1</td>\n",
       "      <td>0</td>\n",
       "      <td>9</td>\n",
       "    </tr>\n",
       "    <tr>\n",
       "      <th>2014-03-24 20:00:00</th>\n",
       "      <td>0.765102</td>\n",
       "      <td>-0.019146</td>\n",
       "      <td>-0.460023</td>\n",
       "      <td>-0.207012</td>\n",
       "      <td>-0.063050</td>\n",
       "      <td>8.5</td>\n",
       "      <td>1</td>\n",
       "      <td>0</td>\n",
       "      <td>3</td>\n",
       "      <td>0</td>\n",
       "      <td>5</td>\n",
       "      <td>0</td>\n",
       "      <td>1</td>\n",
       "      <td>0</td>\n",
       "      <td>0</td>\n",
       "    </tr>\n",
       "    <tr>\n",
       "      <th>2014-03-24 22:00:00</th>\n",
       "      <td>1.096023</td>\n",
       "      <td>-0.615547</td>\n",
       "      <td>0.215742</td>\n",
       "      <td>-0.207012</td>\n",
       "      <td>-0.404191</td>\n",
       "      <td>14.0</td>\n",
       "      <td>1</td>\n",
       "      <td>0</td>\n",
       "      <td>3</td>\n",
       "      <td>0</td>\n",
       "      <td>5</td>\n",
       "      <td>0</td>\n",
       "      <td>1</td>\n",
       "      <td>0</td>\n",
       "      <td>9</td>\n",
       "    </tr>\n",
       "  </tbody>\n",
       "</table>\n",
       "</div>"
      ],
      "text/plain": [
       "                     wind_dir  wind_vel  ...  9_clusters  10_clusters\n",
       "datetime                                 ...                         \n",
       "2014-03-24 14:00:00  0.129948  1.434579  ...           0            0\n",
       "2014-03-24 16:00:00  0.145960  1.881879  ...           0            0\n",
       "2014-03-24 18:00:00  0.487556  1.397304  ...           0            9\n",
       "2014-03-24 20:00:00  0.765102 -0.019146  ...           0            0\n",
       "2014-03-24 22:00:00  1.096023 -0.615547  ...           0            9\n",
       "\n",
       "[5 rows x 15 columns]"
      ]
     },
     "execution_count": 3,
     "metadata": {
      "tags": []
     },
     "output_type": "execute_result"
    }
   ],
   "source": [
    "data_with_clusters = data_std.copy()\n",
    "data_with_clusters['mp_25'] = data['mp_25']\n",
    "for i in range(2, 11):\n",
    "    kmeans = KMeans(i)\n",
    "    kmeans.fit(data_with_clusters)\n",
    "    data_with_clusters['{}_clusters'.format(i)] = kmeans.labels_\n",
    "data_with_clusters.head()    "
   ]
  },
  {
   "cell_type": "markdown",
   "metadata": {
    "colab_type": "text",
    "id": "vNuJp-xHpD5k"
   },
   "source": [
    "# Generando feature vectors pero separando la parte timeserie"
   ]
  },
  {
   "cell_type": "code",
   "execution_count": 4,
   "metadata": {
    "ExecuteTime": {
     "end_time": "2020-08-16T02:08:53.040591Z",
     "start_time": "2020-08-16T02:08:43.114074Z"
    },
    "colab": {},
    "colab_type": "code",
    "id": "KLKqZURXpD5n"
   },
   "outputs": [],
   "source": [
    "X, y = get_consecutive(data, 128)\n",
    "X_train, X_test, y_train, y_test = train_test_split(X, y, test_size=0.33, random_state=42)\n",
    "y_train = [i.mp_25 for i in y_train]\n",
    "y_test = [i.mp_25 for i in y_test]"
   ]
  },
  {
   "cell_type": "markdown",
   "metadata": {
    "colab_type": "text",
    "id": "W6dJNjg6pD5y"
   },
   "source": [
    "Ahora deberíamos tener ``X_train`` que tiene todas las features menos la serie de tiempo justo anterior a su output, esa serie está contenida en ``mp_25_train`` para poder darsela a la red de manera independiente y separar la parte temporal de las características"
   ]
  },
  {
   "cell_type": "markdown",
   "metadata": {
    "colab_type": "text",
    "id": "hMo5UywEpD50"
   },
   "source": [
    "# Parte con Torch"
   ]
  },
  {
   "cell_type": "code",
   "execution_count": 5,
   "metadata": {
    "colab": {
     "base_uri": "https://localhost:8080/",
     "height": 34
    },
    "colab_type": "code",
    "id": "dQAmsFG656Hw",
    "outputId": "e2dab7e7-f086-4ba4-d0f7-5b292fb37719"
   },
   "outputs": [
    {
     "data": {
      "text/plain": [
       "1920"
      ]
     },
     "execution_count": 5,
     "metadata": {
      "tags": []
     },
     "output_type": "execute_result"
    }
   ],
   "source": [
    "128*15"
   ]
  },
  {
   "cell_type": "code",
   "execution_count": 6,
   "metadata": {
    "ExecuteTime": {
     "end_time": "2020-08-16T02:08:53.066986Z",
     "start_time": "2020-08-16T02:08:53.049822Z"
    },
    "colab": {},
    "colab_type": "code",
    "id": "mLpDaQmkpD53"
   },
   "outputs": [],
   "source": [
    "input_size = 6\n",
    "sequence_len = 128\n",
    "num_layers = 1\n",
    "hidden_size =1000\n",
    "learning_rate = 0.001\n",
    "batch_size = 64\n",
    "num_epochs = 2"
   ]
  },
  {
   "cell_type": "code",
   "execution_count": 7,
   "metadata": {
    "ExecuteTime": {
     "end_time": "2020-08-16T02:08:53.091748Z",
     "start_time": "2020-08-16T02:08:53.070970Z"
    },
    "colab": {},
    "colab_type": "code",
    "id": "2hpnqlnppD6B"
   },
   "outputs": [],
   "source": [
    "class RNN(nn.Module):\n",
    "    def __init__(self, input_size, hidden_size, num_layers, num_classes):\n",
    "        super(RNN, self).__init__()\n",
    "        self.hidden_size = hidden_size\n",
    "        self.num_layers = num_layers\n",
    "        self.rnn = nn.RNN(input_size, hidden_size, num_layers, batch_first=True)\n",
    "        # Batch x time sequence x time features\n",
    "        self.fc1 = nn.Linear(hidden_size * sequence_len, num_classes)\n",
    "\n",
    "\n",
    "        self.name = 'rnn'\n",
    "    def forward(self, x):\n",
    "        h0 = torch.zeros(self.num_layers, x.size(0), self.hidden_size).to(device)\n",
    "        \n",
    "        # forward\n",
    "        out, _ = self.rnn(x, h0)\n",
    "        out = F.relu(out.reshape(out.shape[0], -1))\n",
    "        out = self.fc1(out)\n",
    "        return out"
   ]
  },
  {
   "cell_type": "code",
   "execution_count": 8,
   "metadata": {
    "ExecuteTime": {
     "end_time": "2020-08-16T02:08:53.121495Z",
     "start_time": "2020-08-16T02:08:53.096912Z"
    },
    "colab": {},
    "colab_type": "code",
    "id": "7hLXkO7hpD6L"
   },
   "outputs": [],
   "source": [
    "model = RNN(input_size, hidden_size, num_layers, 1)"
   ]
  },
  {
   "cell_type": "code",
   "execution_count": 9,
   "metadata": {
    "ExecuteTime": {
     "end_time": "2020-08-16T02:08:53.165160Z",
     "start_time": "2020-08-16T02:08:53.148093Z"
    },
    "colab": {},
    "colab_type": "code",
    "id": "ihrNdCE6pD6R"
   },
   "outputs": [],
   "source": [
    "class MP25Dataset(Dataset):\n",
    "    \"\"\"Dataset para el proyecto\"\"\"\n",
    "    def __init__(self, X, y, n):\n",
    "        self.X = [torch.from_numpy(x.values.reshape(1, n, 6)) for x in X]\n",
    "        self.y = [torch.from_numpy(i.reshape(-1)) for i in y]\n",
    "        \n",
    "    def __len__(self):\n",
    "        return len(self.X)\n",
    "    \n",
    "    def __getitem__(self, idx):\n",
    "        sample = self.X[idx], self.y[idx]\n",
    "        return sample\n",
    "    \n",
    "    def __repr__(self):\n",
    "        return 'MP25Dataset'"
   ]
  },
  {
   "cell_type": "code",
   "execution_count": 10,
   "metadata": {
    "ExecuteTime": {
     "end_time": "2020-08-16T02:09:00.308748Z",
     "start_time": "2020-08-16T02:08:34.211Z"
    },
    "colab": {},
    "colab_type": "code",
    "id": "_YoYnZOUpD6b"
   },
   "outputs": [],
   "source": [
    "training_set = MP25Dataset(X_train, y_train, 128)\n",
    "test_set = MP25Dataset(X_test, y_test, 128)"
   ]
  },
  {
   "cell_type": "code",
   "execution_count": 11,
   "metadata": {
    "ExecuteTime": {
     "end_time": "2020-08-16T04:58:07.065761Z",
     "start_time": "2020-08-16T04:58:06.986175Z"
    },
    "colab": {},
    "colab_type": "code",
    "id": "OklegfnepD6l",
    "scrolled": false
   },
   "outputs": [],
   "source": [
    "def test(model, x_test, y_test, loss_function, batch_size=365*24):\n",
    "    model.eval()\n",
    "    total_loss = 0\n",
    "\n",
    "    with torch.no_grad():\n",
    "        for x_i, y_i in zip(x_test, y_test):\n",
    "            # predict data using the given model\n",
    "            prediction = model(x_i)\n",
    "            # Compute loss\n",
    "            total_loss += loss_function(prediction, y_i).item()\n",
    "\n",
    "    print(total_loss)\n",
    "\n",
    "    return total_loss\n",
    "\n",
    "def train(model, train_set, optimizer, loss_function, epochs=5, batch_size=365*24):\n",
    "    model.train()\n",
    "    total_loss = 0\n",
    "\n",
    "    for i in range(epochs):\n",
    "        # each epoch\n",
    "        epoch_loss = 0\n",
    "        best_test_loss = float('inf')\n",
    "\n",
    "        \n",
    "        for j in range(len(train_set)):\n",
    "        # get the inputs; data is a list of [inputs, labels]\n",
    "            x_i, y_i = train_set[j]\n",
    "\n",
    "            x_i = x_i.to(device).float()\n",
    "            y_i = y_i.to(device).float()\n",
    "            optimizer.zero_grad()\n",
    "            y_pred = model(x_i)\n",
    "\n",
    "            loss = loss_function(y_pred, y_i)\n",
    "            epoch_loss += loss.item()\n",
    "            loss.backward()\n",
    "            optimizer.step()\n",
    "\n",
    "        # Save results from the best trained model\n",
    "        if epoch_loss < best_test_loss:\n",
    "            best_test_loss = epoch_loss\n",
    "            torch.save(model.state_dict(), '{}.pt'.format(model.name))\n",
    "            \n",
    "        total_loss += epoch_loss\n",
    "        print(f'epoch: {i} loss: {epoch_loss:10.8f}')\n",
    "\n",
    "    print(f'Average loss: {total_loss/len(train_set):4f}')\n",
    "    return total_loss"
   ]
  },
  {
   "cell_type": "code",
   "execution_count": 12,
   "metadata": {
    "ExecuteTime": {
     "end_time": "2020-08-16T04:58:22.868178Z",
     "start_time": "2020-08-16T04:58:22.791939Z"
    },
    "colab": {
     "base_uri": "https://localhost:8080/",
     "height": 86
    },
    "colab_type": "code",
    "id": "qYD1EcHBpD6v",
    "outputId": "934a47b2-e93c-4d23-aa28-69351210a5d6"
   },
   "outputs": [
    {
     "data": {
      "text/plain": [
       "RNN(\n",
       "  (rnn): RNN(6, 1000, batch_first=True)\n",
       "  (fc1): Linear(in_features=128000, out_features=1, bias=True)\n",
       ")"
      ]
     },
     "execution_count": 12,
     "metadata": {
      "tags": []
     },
     "output_type": "execute_result"
    }
   ],
   "source": [
    "device = ('cuda' if torch.cuda.is_available() else 'cpu')\n",
    "rnn = RNN(input_size, hidden_size, num_layers, 1)\n",
    "rnn.to(device)"
   ]
  },
  {
   "cell_type": "code",
   "execution_count": 13,
   "metadata": {
    "ExecuteTime": {
     "end_time": "2020-08-16T04:59:09.184062Z",
     "start_time": "2020-08-16T04:59:09.175789Z"
    },
    "colab": {},
    "colab_type": "code",
    "id": "O8Jz95wRpD7J"
   },
   "outputs": [],
   "source": [
    "loss_func = torch.nn.MSELoss().to(device)\n",
    "opt = optim.Adam(rnn.parameters())"
   ]
  },
  {
   "cell_type": "code",
   "execution_count": 14,
   "metadata": {
    "ExecuteTime": {
     "end_time": "2020-08-16T05:00:08.063657Z",
     "start_time": "2020-08-16T04:59:10.295897Z"
    },
    "colab": {
     "base_uri": "https://localhost:8080/",
     "height": 139
    },
    "colab_type": "code",
    "id": "sRpS62X0pD7S",
    "outputId": "426bbee6-b786-498c-8e40-72755347b2b2"
   },
   "outputs": [
    {
     "name": "stdout",
     "output_type": "stream",
     "text": [
      "epoch: 0 loss: 44736195.15032203\n",
      "epoch: 1 loss: 41284824.10247315\n",
      "epoch: 2 loss: 40281581.25878270\n",
      "epoch: 3 loss: 39773577.57589075\n",
      "epoch: 4 loss: 40369754.19670726\n",
      "Average loss: 13755.725765\n"
     ]
    },
    {
     "data": {
      "text/plain": [
       "206445932.28417587"
      ]
     },
     "execution_count": 14,
     "metadata": {
      "tags": []
     },
     "output_type": "execute_result"
    }
   ],
   "source": [
    "train(rnn, training_set, opt, loss_func)"
   ]
  },
  {
   "cell_type": "code",
   "execution_count": 15,
   "metadata": {
    "colab": {
     "base_uri": "https://localhost:8080/",
     "height": 52
    },
    "colab_type": "code",
    "id": "s6hrRTIYDo_r",
    "outputId": "4af60559-7464-4eae-c1be-ea10d1254fe1"
   },
   "outputs": [
    {
     "data": {
      "text/plain": [
       "(tensor([[26.5034]], device='cuda:0', grad_fn=<AddmmBackward>),\n",
       " tensor([11.5205], dtype=torch.float64))"
      ]
     },
     "execution_count": 15,
     "metadata": {
      "tags": []
     },
     "output_type": "execute_result"
    }
   ],
   "source": [
    "n = 100\n",
    "rnn(training_set[n][0].to(device).float()), training_set[n][1]"
   ]
  },
  {
   "cell_type": "code",
   "execution_count": 16,
   "metadata": {
    "colab": {},
    "colab_type": "code",
    "id": "HT61vIJ2C0H8"
   },
   "outputs": [],
   "source": [
    "input_size = 24\n",
    "sequence_len = 128\n",
    "num_layers = 1\n",
    "hidden_size =1000\n",
    "learning_rate = 0.001\n",
    "batch_size = 64\n",
    "num_epochs = 2\n",
    "\n",
    "rnn2 = RNN(input_size, hidden_size, num_layers, 10)\n",
    "rnn2.to(device)\n",
    "loss_func = torch.nn.CrossEntropyLoss().to(device)\n",
    "opt = optim.Adam(rnn2.parameters())"
   ]
  },
  {
   "cell_type": "code",
   "execution_count": 17,
   "metadata": {
    "colab": {},
    "colab_type": "code",
    "id": "mOfR6IYdpp6u"
   },
   "outputs": [],
   "source": [
    "def test(model, x_test, y_test, loss_function, batch_size=365*24):\n",
    "    model.eval()\n",
    "    total_loss = 0\n",
    "\n",
    "    with torch.no_grad():\n",
    "        for x_i, y_i in zip(x_test, y_test):\n",
    "            # predict data using the given model\n",
    "            prediction = model(x_i)\n",
    "            # Compute loss\n",
    "            total_loss += loss_function(prediction, y_i).item()\n",
    "\n",
    "    print(total_loss)\n",
    "\n",
    "    return total_loss\n",
    "\n",
    "def train(model, train_set, optimizer, loss_function, epochs=5, batch_size=365*24):\n",
    "    model.train()\n",
    "    total_loss = 0\n",
    "\n",
    "    for i in range(epochs):\n",
    "        # each epoch\n",
    "        epoch_loss = 0\n",
    "        best_test_loss = float('inf')\n",
    "\n",
    "        \n",
    "        for j in range(len(train_set)):\n",
    "        # get the inputs; data is a list of [inputs, labels]\n",
    "            x_i, y_i = train_set[j]\n",
    "\n",
    "            x_i = x_i.to(device).float()\n",
    "            y_i = y_i.to(device).float()\n",
    "            optimizer.zero_grad()\n",
    "            y_pred = model(x_i)\n",
    "\n",
    "            loss = loss_function(y_pred.view(1, 10), torch.argmax(y_i).view(-1))\n",
    "            epoch_loss += loss.item()\n",
    "            loss.backward()\n",
    "            optimizer.step()\n",
    "\n",
    "        # Save results from the best trained model\n",
    "        if epoch_loss < best_test_loss:\n",
    "            best_test_loss = epoch_loss\n",
    "            torch.save(model.state_dict(), '{}.pt'.format(model.name))\n",
    "            \n",
    "        total_loss += epoch_loss\n",
    "        print(f'epoch: {i} loss: {epoch_loss:10.8f}')\n",
    "\n",
    "    print(f'Average loss: {total_loss/len(train_set):4f}')\n",
    "    return total_loss\n",
    "\n"
   ]
  },
  {
   "cell_type": "code",
   "execution_count": 18,
   "metadata": {
    "colab": {},
    "colab_type": "code",
    "id": "XbMRZHTOD_9-"
   },
   "outputs": [],
   "source": [
    "from sklearn.preprocessing import KBinsDiscretizer\n",
    "\n",
    "discretizador = KBinsDiscretizer(10)\n",
    "mp_25_vectors = discretizador.fit_transform(data[['mp_25']]).toarray()\n",
    "X, y = get_consecutive(data_with_clusters, 128)\n",
    "for i, x in enumerate(X):\n",
    "    yy = discretizador.transform(x[['mp_25']]).toarray()\n",
    "    x.drop('mp_25', axis=1, inplace=True)\n",
    "    for j in range(10):\n",
    "        x['onehot_{}'.format(j)] = yy[:, j]\n",
    "        \n",
    "y = [discretizador.transform(i.mp_25.reshape(-1, 1)).toarray() for i in y]\n",
    "X_train, X_test, y_train, y_test = train_test_split(X, y, test_size=0.33, random_state=42)"
   ]
  },
  {
   "cell_type": "code",
   "execution_count": 19,
   "metadata": {
    "colab": {},
    "colab_type": "code",
    "id": "2ILAnWcvFgxx"
   },
   "outputs": [],
   "source": [
    "\n",
    "class MP25Dataset2(Dataset):\n",
    "    \"\"\"Dataset para el proyecto\"\"\"\n",
    "    def __init__(self, X, y, n):\n",
    "        self.X = [torch.from_numpy(x.values.reshape(1, n, 24)) for x in X]\n",
    "        self.y = [torch.from_numpy(i.reshape(-1)) for i in y]\n",
    "        \n",
    "    def __len__(self):\n",
    "        return len(self.X)\n",
    "    \n",
    "    def __getitem__(self, idx):\n",
    "        sample = self.X[idx], self.y[idx]\n",
    "        return sample\n",
    "    \n",
    "    def __repr__(self):\n",
    "        return 'MP25Dataset'"
   ]
  },
  {
   "cell_type": "code",
   "execution_count": 20,
   "metadata": {
    "colab": {},
    "colab_type": "code",
    "id": "SSCjTJmeFGzW"
   },
   "outputs": [],
   "source": [
    "training_set2 = MP25Dataset2(X_train, y_train, 128)\n",
    "test_set2 = MP25Dataset2(X_test, y_test, 128)"
   ]
  },
  {
   "cell_type": "code",
   "execution_count": null,
   "metadata": {
    "colab": {
     "base_uri": "https://localhost:8080/",
     "height": 52
    },
    "colab_type": "code",
    "id": "rWAwQ-llEWB5",
    "outputId": "165ce3f6-2ab3-4326-d06d-a343c4daa479"
   },
   "outputs": [
    {
     "name": "stdout",
     "output_type": "stream",
     "text": [
      "epoch: 0 loss: 530782.18175894\n",
      "epoch: 1 loss: 453484.54944919\n"
     ]
    }
   ],
   "source": [
    "train(rnn2, training_set2, opt, loss_func)"
   ]
  },
  {
   "cell_type": "code",
   "execution_count": null,
   "metadata": {
    "colab": {},
    "colab_type": "code",
    "id": "ra3cnDrBZbYK"
   },
   "outputs": [],
   "source": []
  }
 ],
 "metadata": {
  "accelerator": "GPU",
  "colab": {
   "collapsed_sections": [],
   "name": "RNN.ipynb",
   "provenance": [],
   "toc_visible": true
  },
  "kernelspec": {
   "display_name": "Python 3",
   "language": "python",
   "name": "python3"
  },
  "language_info": {
   "codemirror_mode": {
    "name": "ipython",
    "version": 3
   },
   "file_extension": ".py",
   "mimetype": "text/x-python",
   "name": "python",
   "nbconvert_exporter": "python",
   "pygments_lexer": "ipython3",
   "version": "3.8.5"
  },
  "toc": {
   "base_numbering": 1,
   "nav_menu": {},
   "number_sections": true,
   "sideBar": true,
   "skip_h1_title": false,
   "title_cell": "Table of Contents",
   "title_sidebar": "Contents",
   "toc_cell": false,
   "toc_position": {},
   "toc_section_display": true,
   "toc_window_display": false
  }
 },
 "nbformat": 4,
 "nbformat_minor": 1
}
