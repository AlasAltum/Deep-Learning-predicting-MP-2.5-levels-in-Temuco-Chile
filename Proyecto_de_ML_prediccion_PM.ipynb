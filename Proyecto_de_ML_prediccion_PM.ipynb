{
 "cells": [
  {
   "cell_type": "markdown",
   "metadata": {
    "colab_type": "text",
    "id": "OXSZeV2gTYZQ"
   },
   "source": [
    "Estudiantes: <br>\n",
    "Tomás Rojas <br>\n",
    "Matías Montagna <br>\n",
    "Alonso Utreras"
   ]
  },
  {
   "cell_type": "markdown",
   "metadata": {
    "colab_type": "text",
    "id": "_jDvbg1nTlCs"
   },
   "source": [
    "## Extracción de Datos:\n",
    "\n",
    "Trabajaremos con los datos del [SINCA Temuco](https://sinca.mma.gob.cl/index.php/estacion/index/id/186). \n",
    "\n",
    "Este contiene información relevante como:\n",
    "* MP 2,5 \n",
    "* Presión atmosférica (Presión - hPa) 01-01-2005 5 mayo 2010\n",
    "* Precipitaciones (Precipitaciones - mm)\n",
    "* Temperatura ambiente (Temperatura - °C)\n",
    "* Dirección del viento (Dir. viento - °)\n",
    "* Velocidad del viento (Vel. viento - m/s)\n",
    "\n",
    "Forma de los datos:\n",
    "-------------------\n",
    "Presión atmosférica\n",
    "FECHA (YYMMDD);HORA (HHMM);;\n",
    "050101;0100;0;\n",
    "-------------------\n",
    "\n",
    "\n",
    "Es importante que los datos estén bien correlaciones con sus fechas y horas respectivas."
   ]
  },
  {
   "cell_type": "code",
   "execution_count": null,
   "metadata": {
    "colab": {
     "base_uri": "https://localhost:8080/",
     "height": 224
    },
    "colab_type": "code",
    "id": "IrJjVDEnWbue",
    "outputId": "2ead44e2-d2c6-437a-80d0-b0cbafa1fd6a"
   },
   "outputs": [
    {
     "name": "stdout",
     "output_type": "stream",
     "text": [
      "Drive already mounted at /content/drive; to attempt to forcibly remount, call drive.mount(\"/content/drive\", force_remount=True).\n"
     ]
    },
    {
     "data": {
      "text/html": [
       "<div>\n",
       "<style scoped>\n",
       "    .dataframe tbody tr th:only-of-type {\n",
       "        vertical-align: middle;\n",
       "    }\n",
       "\n",
       "    .dataframe tbody tr th {\n",
       "        vertical-align: top;\n",
       "    }\n",
       "\n",
       "    .dataframe thead th {\n",
       "        text-align: right;\n",
       "    }\n",
       "</style>\n",
       "<table border=\"1\" class=\"dataframe\">\n",
       "  <thead>\n",
       "    <tr style=\"text-align: right;\">\n",
       "      <th></th>\n",
       "      <th>FECHA (YYMMDD)</th>\n",
       "      <th>HORA (HHMM)</th>\n",
       "      <th>Unnamed: 2</th>\n",
       "    </tr>\n",
       "  </thead>\n",
       "  <tbody>\n",
       "    <tr>\n",
       "      <th>0</th>\n",
       "      <td>40331</td>\n",
       "      <td>100</td>\n",
       "      <td>NaN</td>\n",
       "    </tr>\n",
       "    <tr>\n",
       "      <th>1</th>\n",
       "      <td>40331</td>\n",
       "      <td>200</td>\n",
       "      <td>NaN</td>\n",
       "    </tr>\n",
       "    <tr>\n",
       "      <th>2</th>\n",
       "      <td>40331</td>\n",
       "      <td>300</td>\n",
       "      <td>NaN</td>\n",
       "    </tr>\n",
       "    <tr>\n",
       "      <th>3</th>\n",
       "      <td>40331</td>\n",
       "      <td>400</td>\n",
       "      <td>NaN</td>\n",
       "    </tr>\n",
       "    <tr>\n",
       "      <th>4</th>\n",
       "      <td>40331</td>\n",
       "      <td>500</td>\n",
       "      <td>NaN</td>\n",
       "    </tr>\n",
       "  </tbody>\n",
       "</table>\n",
       "</div>"
      ],
      "text/plain": [
       "   FECHA (YYMMDD)  HORA (HHMM) Unnamed: 2\n",
       "0           40331          100        NaN\n",
       "1           40331          200        NaN\n",
       "2           40331          300        NaN\n",
       "3           40331          400        NaN\n",
       "4           40331          500        NaN"
      ]
     },
     "execution_count": 5,
     "metadata": {
      "tags": []
     },
     "output_type": "execute_result"
    }
   ],
   "source": [
    "import csv\n",
    "# from google.colab import drive\n",
    "import pandas as pd \n",
    "from preprocessing import process_data\n",
    "\n",
    "\n",
    "# drive.mount('/content/drive') # To obtain values from google drive.\n",
    "\n",
    "dir_viento = pd.read_csv(\"/content/drive/My Drive/dir_viento.csv\", delimiter=';') \n",
    "dir_viento.drop(columns='Unnamed: 3',inplace=True)\n",
    "\n",
    "vel_viento = pd.read_csv(\"/content/drive/My Drive/vel_viento.csv\", delimiter=';') \n",
    "vel_viento.drop(columns='Unnamed: 3',inplace=True)\n",
    "\n",
    "vel_viento = pd.read_csv(\"/content/drive/My Drive/vel_viento.csv\", delimiter=';') \n",
    "vel_viento.drop(columns='Unnamed: 3',inplace=True)\n",
    "\n",
    "vel_viento = pd.read_csv(\"/content/drive/My Drive/vel_viento.csv\", delimiter=';') \n",
    "vel_viento.drop(columns='Unnamed: 3',inplace=True)\n",
    "\n",
    "vel_viento = pd.read_csv(\"/content/drive/My Drive/vel_viento.csv\", delimiter=';') \n",
    "vel_viento.drop(columns='Unnamed: 3',inplace=True)\n"
   ]
  },
  {
   "cell_type": "code",
   "execution_count": 1,
   "metadata": {},
   "outputs": [
    {
     "output_type": "error",
     "ename": "KeyError",
     "evalue": "\"['Unnamed: 5'] not found in axis\"",
     "traceback": [
      "\u001b[1;31m---------------------------------------------------------------------------\u001b[0m",
      "\u001b[1;31mKeyError\u001b[0m                                  Traceback (most recent call last)",
      "\u001b[1;32m<ipython-input-1-181233715145>\u001b[0m in \u001b[0;36m<module>\u001b[1;34m\u001b[0m\n\u001b[0;32m      1\u001b[0m \u001b[1;32mfrom\u001b[0m \u001b[0mpreprocessing\u001b[0m \u001b[1;32mimport\u001b[0m \u001b[0mprocess_data\u001b[0m\u001b[1;33m\u001b[0m\u001b[1;33m\u001b[0m\u001b[0m\n\u001b[0;32m      2\u001b[0m \u001b[1;33m\u001b[0m\u001b[0m\n\u001b[1;32m----> 3\u001b[1;33m \u001b[0mdir_viento\u001b[0m \u001b[1;33m=\u001b[0m \u001b[0mprocess_data\u001b[0m\u001b[1;33m(\u001b[0m\u001b[1;34m\"./data/dir_viento.csv\"\u001b[0m\u001b[1;33m)\u001b[0m\u001b[1;33m\u001b[0m\u001b[1;33m\u001b[0m\u001b[0m\n\u001b[0m\u001b[0;32m      4\u001b[0m \u001b[0mdir_viento\u001b[0m\u001b[1;33m\u001b[0m\u001b[1;33m\u001b[0m\u001b[0m\n",
      "\u001b[1;32mc:\\Users\\alons\\Desktop\\Uni\\Siebter_Semester\\Machine Learning\\Proyecto_ML_MP2.5-master\\Proyecto_ML_MP2.5-master\\Proyecto_ML_MP2.5\\preprocessing.py\u001b[0m in \u001b[0;36mprocess_data\u001b[1;34m(path, col_name)\u001b[0m\n\u001b[0;32m     47\u001b[0m     \u001b[0mdata\u001b[0m\u001b[1;33m[\u001b[0m\u001b[1;34m'datetime'\u001b[0m\u001b[1;33m]\u001b[0m \u001b[1;33m=\u001b[0m \u001b[0mpd\u001b[0m\u001b[1;33m.\u001b[0m\u001b[0mto_datetime\u001b[0m\u001b[1;33m(\u001b[0m\u001b[0mdata\u001b[0m\u001b[1;33m[\u001b[0m\u001b[1;34m'FECHA (YYMMDD)'\u001b[0m\u001b[1;33m]\u001b[0m \u001b[1;33m+\u001b[0m \u001b[1;34m':'\u001b[0m \u001b[1;33m+\u001b[0m \u001b[0mdata\u001b[0m\u001b[1;33m[\u001b[0m\u001b[1;34m'HORA (HHMM)'\u001b[0m\u001b[1;33m]\u001b[0m\u001b[1;33m,\u001b[0m \u001b[0mformat\u001b[0m\u001b[1;33m=\u001b[0m\u001b[1;34m'%y%m%d:%H%M'\u001b[0m\u001b[1;33m)\u001b[0m\u001b[1;33m\u001b[0m\u001b[1;33m\u001b[0m\u001b[0m\n\u001b[0;32m     48\u001b[0m     \u001b[0mdata\u001b[0m\u001b[1;33m.\u001b[0m\u001b[0mdrop\u001b[0m\u001b[1;33m(\u001b[0m\u001b[1;33m[\u001b[0m\u001b[1;34m'FECHA (YYMMDD)'\u001b[0m\u001b[1;33m,\u001b[0m\u001b[1;34m'HORA (HHMM)'\u001b[0m\u001b[1;33m]\u001b[0m\u001b[1;33m,\u001b[0m \u001b[0maxis\u001b[0m\u001b[1;33m=\u001b[0m\u001b[1;36m1\u001b[0m\u001b[1;33m,\u001b[0m \u001b[0minplace\u001b[0m\u001b[1;33m=\u001b[0m\u001b[1;32mTrue\u001b[0m\u001b[1;33m)\u001b[0m\u001b[1;33m\u001b[0m\u001b[1;33m\u001b[0m\u001b[0m\n\u001b[1;32m---> 49\u001b[1;33m     \u001b[0mdata\u001b[0m\u001b[1;33m.\u001b[0m\u001b[0mdrop\u001b[0m\u001b[1;33m(\u001b[0m\u001b[1;34m'Unnamed: 5'\u001b[0m\u001b[1;33m,\u001b[0m \u001b[0maxis\u001b[0m\u001b[1;33m=\u001b[0m\u001b[1;36m1\u001b[0m\u001b[1;33m,\u001b[0m \u001b[0minplace\u001b[0m\u001b[1;33m=\u001b[0m\u001b[1;32mTrue\u001b[0m\u001b[1;33m)\u001b[0m\u001b[1;33m\u001b[0m\u001b[1;33m\u001b[0m\u001b[0m\n\u001b[0m\u001b[0;32m     50\u001b[0m     data.index = pd.MultiIndex.from_arrays([data.datetime.dt.year,\n\u001b[0;32m     51\u001b[0m                                             \u001b[0mdata\u001b[0m\u001b[1;33m.\u001b[0m\u001b[0mdatetime\u001b[0m\u001b[1;33m.\u001b[0m\u001b[0mdt\u001b[0m\u001b[1;33m.\u001b[0m\u001b[0mmonth\u001b[0m\u001b[1;33m,\u001b[0m\u001b[1;33m\u001b[0m\u001b[1;33m\u001b[0m\u001b[0m\n",
      "\u001b[1;32m~\\AppData\\Local\\Programs\\Python\\Python37-32\\lib\\site-packages\\pandas\\core\\frame.py\u001b[0m in \u001b[0;36mdrop\u001b[1;34m(self, labels, axis, index, columns, level, inplace, errors)\u001b[0m\n\u001b[0;32m   3995\u001b[0m             \u001b[0mlevel\u001b[0m\u001b[1;33m=\u001b[0m\u001b[0mlevel\u001b[0m\u001b[1;33m,\u001b[0m\u001b[1;33m\u001b[0m\u001b[1;33m\u001b[0m\u001b[0m\n\u001b[0;32m   3996\u001b[0m             \u001b[0minplace\u001b[0m\u001b[1;33m=\u001b[0m\u001b[0minplace\u001b[0m\u001b[1;33m,\u001b[0m\u001b[1;33m\u001b[0m\u001b[1;33m\u001b[0m\u001b[0m\n\u001b[1;32m-> 3997\u001b[1;33m             \u001b[0merrors\u001b[0m\u001b[1;33m=\u001b[0m\u001b[0merrors\u001b[0m\u001b[1;33m,\u001b[0m\u001b[1;33m\u001b[0m\u001b[1;33m\u001b[0m\u001b[0m\n\u001b[0m\u001b[0;32m   3998\u001b[0m         )\n\u001b[0;32m   3999\u001b[0m \u001b[1;33m\u001b[0m\u001b[0m\n",
      "\u001b[1;32m~\\AppData\\Local\\Programs\\Python\\Python37-32\\lib\\site-packages\\pandas\\core\\generic.py\u001b[0m in \u001b[0;36mdrop\u001b[1;34m(self, labels, axis, index, columns, level, inplace, errors)\u001b[0m\n\u001b[0;32m   3934\u001b[0m         \u001b[1;32mfor\u001b[0m \u001b[0maxis\u001b[0m\u001b[1;33m,\u001b[0m \u001b[0mlabels\u001b[0m \u001b[1;32min\u001b[0m \u001b[0maxes\u001b[0m\u001b[1;33m.\u001b[0m\u001b[0mitems\u001b[0m\u001b[1;33m(\u001b[0m\u001b[1;33m)\u001b[0m\u001b[1;33m:\u001b[0m\u001b[1;33m\u001b[0m\u001b[1;33m\u001b[0m\u001b[0m\n\u001b[0;32m   3935\u001b[0m             \u001b[1;32mif\u001b[0m \u001b[0mlabels\u001b[0m \u001b[1;32mis\u001b[0m \u001b[1;32mnot\u001b[0m \u001b[1;32mNone\u001b[0m\u001b[1;33m:\u001b[0m\u001b[1;33m\u001b[0m\u001b[1;33m\u001b[0m\u001b[0m\n\u001b[1;32m-> 3936\u001b[1;33m                 \u001b[0mobj\u001b[0m \u001b[1;33m=\u001b[0m \u001b[0mobj\u001b[0m\u001b[1;33m.\u001b[0m\u001b[0m_drop_axis\u001b[0m\u001b[1;33m(\u001b[0m\u001b[0mlabels\u001b[0m\u001b[1;33m,\u001b[0m \u001b[0maxis\u001b[0m\u001b[1;33m,\u001b[0m \u001b[0mlevel\u001b[0m\u001b[1;33m=\u001b[0m\u001b[0mlevel\u001b[0m\u001b[1;33m,\u001b[0m \u001b[0merrors\u001b[0m\u001b[1;33m=\u001b[0m\u001b[0merrors\u001b[0m\u001b[1;33m)\u001b[0m\u001b[1;33m\u001b[0m\u001b[1;33m\u001b[0m\u001b[0m\n\u001b[0m\u001b[0;32m   3937\u001b[0m \u001b[1;33m\u001b[0m\u001b[0m\n\u001b[0;32m   3938\u001b[0m         \u001b[1;32mif\u001b[0m \u001b[0minplace\u001b[0m\u001b[1;33m:\u001b[0m\u001b[1;33m\u001b[0m\u001b[1;33m\u001b[0m\u001b[0m\n",
      "\u001b[1;32m~\\AppData\\Local\\Programs\\Python\\Python37-32\\lib\\site-packages\\pandas\\core\\generic.py\u001b[0m in \u001b[0;36m_drop_axis\u001b[1;34m(self, labels, axis, level, errors)\u001b[0m\n\u001b[0;32m   3968\u001b[0m                 \u001b[0mnew_axis\u001b[0m \u001b[1;33m=\u001b[0m \u001b[0maxis\u001b[0m\u001b[1;33m.\u001b[0m\u001b[0mdrop\u001b[0m\u001b[1;33m(\u001b[0m\u001b[0mlabels\u001b[0m\u001b[1;33m,\u001b[0m \u001b[0mlevel\u001b[0m\u001b[1;33m=\u001b[0m\u001b[0mlevel\u001b[0m\u001b[1;33m,\u001b[0m \u001b[0merrors\u001b[0m\u001b[1;33m=\u001b[0m\u001b[0merrors\u001b[0m\u001b[1;33m)\u001b[0m\u001b[1;33m\u001b[0m\u001b[1;33m\u001b[0m\u001b[0m\n\u001b[0;32m   3969\u001b[0m             \u001b[1;32melse\u001b[0m\u001b[1;33m:\u001b[0m\u001b[1;33m\u001b[0m\u001b[1;33m\u001b[0m\u001b[0m\n\u001b[1;32m-> 3970\u001b[1;33m                 \u001b[0mnew_axis\u001b[0m \u001b[1;33m=\u001b[0m \u001b[0maxis\u001b[0m\u001b[1;33m.\u001b[0m\u001b[0mdrop\u001b[0m\u001b[1;33m(\u001b[0m\u001b[0mlabels\u001b[0m\u001b[1;33m,\u001b[0m \u001b[0merrors\u001b[0m\u001b[1;33m=\u001b[0m\u001b[0merrors\u001b[0m\u001b[1;33m)\u001b[0m\u001b[1;33m\u001b[0m\u001b[1;33m\u001b[0m\u001b[0m\n\u001b[0m\u001b[0;32m   3971\u001b[0m             \u001b[0mresult\u001b[0m \u001b[1;33m=\u001b[0m \u001b[0mself\u001b[0m\u001b[1;33m.\u001b[0m\u001b[0mreindex\u001b[0m\u001b[1;33m(\u001b[0m\u001b[1;33m**\u001b[0m\u001b[1;33m{\u001b[0m\u001b[0maxis_name\u001b[0m\u001b[1;33m:\u001b[0m \u001b[0mnew_axis\u001b[0m\u001b[1;33m}\u001b[0m\u001b[1;33m)\u001b[0m\u001b[1;33m\u001b[0m\u001b[1;33m\u001b[0m\u001b[0m\n\u001b[0;32m   3972\u001b[0m \u001b[1;33m\u001b[0m\u001b[0m\n",
      "\u001b[1;32m~\\AppData\\Local\\Programs\\Python\\Python37-32\\lib\\site-packages\\pandas\\core\\indexes\\base.py\u001b[0m in \u001b[0;36mdrop\u001b[1;34m(self, labels, errors)\u001b[0m\n\u001b[0;32m   5015\u001b[0m         \u001b[1;32mif\u001b[0m \u001b[0mmask\u001b[0m\u001b[1;33m.\u001b[0m\u001b[0many\u001b[0m\u001b[1;33m(\u001b[0m\u001b[1;33m)\u001b[0m\u001b[1;33m:\u001b[0m\u001b[1;33m\u001b[0m\u001b[1;33m\u001b[0m\u001b[0m\n\u001b[0;32m   5016\u001b[0m             \u001b[1;32mif\u001b[0m \u001b[0merrors\u001b[0m \u001b[1;33m!=\u001b[0m \u001b[1;34m\"ignore\"\u001b[0m\u001b[1;33m:\u001b[0m\u001b[1;33m\u001b[0m\u001b[1;33m\u001b[0m\u001b[0m\n\u001b[1;32m-> 5017\u001b[1;33m                 \u001b[1;32mraise\u001b[0m \u001b[0mKeyError\u001b[0m\u001b[1;33m(\u001b[0m\u001b[1;34mf\"{labels[mask]} not found in axis\"\u001b[0m\u001b[1;33m)\u001b[0m\u001b[1;33m\u001b[0m\u001b[1;33m\u001b[0m\u001b[0m\n\u001b[0m\u001b[0;32m   5018\u001b[0m             \u001b[0mindexer\u001b[0m \u001b[1;33m=\u001b[0m \u001b[0mindexer\u001b[0m\u001b[1;33m[\u001b[0m\u001b[1;33m~\u001b[0m\u001b[0mmask\u001b[0m\u001b[1;33m]\u001b[0m\u001b[1;33m\u001b[0m\u001b[1;33m\u001b[0m\u001b[0m\n\u001b[0;32m   5019\u001b[0m         \u001b[1;32mreturn\u001b[0m \u001b[0mself\u001b[0m\u001b[1;33m.\u001b[0m\u001b[0mdelete\u001b[0m\u001b[1;33m(\u001b[0m\u001b[0mindexer\u001b[0m\u001b[1;33m)\u001b[0m\u001b[1;33m\u001b[0m\u001b[1;33m\u001b[0m\u001b[0m\n",
      "\u001b[1;31mKeyError\u001b[0m: \"['Unnamed: 5'] not found in axis\""
     ]
    }
   ],
   "source": [
    "from preprocessing import process_data\n",
    "\n",
    "dir_viento = process_data(\"./data/dir_viento.csv\")\n",
    "dir_viento"
   ]
  },
  {
   "cell_type": "code",
   "execution_count": 16,
   "metadata": {
    "colab": {},
    "colab_type": "code",
    "id": "aC_C9VXvcOVd"
   },
   "outputs": [],
   "source": [
    "import pandas as pd \n",
    "\n",
    "vel_viento = pd.read_csv(\"vel_viento.csv\", delimiter=';') \n",
    "vel_viento.drop(columns='Unnamed: 3', inplace=True)\n",
    "vel_viento.rename(columns={'Unnamed: 2': 'wind_speed'}, inplace=True)\n",
    "\n",
    "dir_viento = pd.read_csv(\"dir_viento.csv\", delimiter=';') \n",
    "dir_viento.drop(columns='Unnamed: 3', inplace=True)\n",
    "dir_viento.rename(columns={'Unnamed: 2': 'wind_dir'}, inplace=True)\n",
    "\n",
    "p_atm = pd.read_csv(\"p_atm.csv\", delimiter=';') \n",
    "p_atm.drop(columns='Unnamed: 3', inplace=True)\n",
    "p_atm.rename(columns={'Unnamed: 2': 'atm_p'}, inplace=True)\n",
    "\n",
    "precipitaciones = pd.read_csv(\"precipitaciones.csv\", delimiter=';') \n",
    "precipitaciones.drop(columns='Unnamed: 3', inplace=True)\n",
    "precipitaciones.rename(columns={'Unnamed: 2': 'precipitation'}, inplace=True)\n",
    "\n",
    "temperatura_ambiente = pd.read_csv(\"temperatura_ambiente.csv\", delimiter=';') \n",
    "temperatura_ambiente.drop(columns='Unnamed: 3', inplace=True)\n",
    "temperatura_ambiente.rename(columns={'Unnamed: 2': 'ambient_t'}, inplace=True)\n",
    "\n",
    "humedad_relativa = pd.read_csv(\"humedad_relativa.csv\", delimiter=';') \n",
    "humedad_relativa.drop(columns='Unnamed: 3', inplace=True)\n",
    "humedad_relativa.rename(columns={'Unnamed: 2': 'relative_humidity'}, inplace=True)\n"
   ]
  },
  {
   "cell_type": "markdown",
   "metadata": {
    "colab_type": "text",
    "id": "sfYxKrA_pKNA"
   },
   "source": [
    "## Funciones para Trabajar los datos"
   ]
  },
  {
   "cell_type": "code",
   "execution_count": 17,
   "metadata": {},
   "outputs": [],
   "source": [
    "# Data Transformation cells\n",
    "\n",
    "def split_date(YYMMDD):\n",
    "    \"\"\" Erase YYMMDD from DataFrame and add three columns for year, month and day. \n",
    "    \"\"\"\n",
    "    yymmdd = str(YYMMDD)\n",
    "    if len(yymmdd) == 5:\n",
    "        return [yymmdd[0], yymmdd[1:3], yymmdd[3::]]\n",
    "    if len(yymmdd) == 6:\n",
    "        return [yymmdd[0:2], yymmdd[2:4], yymmdd[4::]]\n",
    "\n",
    "def split_date_dataframe(df):\n",
    "    \"\"\"Create a new dataframe with date\"\"\"\n",
    "    dates = pd.DataFrame(df[df.columns[0]].apply(split_date).tolist(), columns=['Year', 'Month', 'Day'])\n",
    "    df_whitout_ymd = df.drop(columns=[df.columns[0]])\n",
    "    return dates.join(df_whitout_ymd)\n",
    "\n",
    "def fix_hour(HHMM):\n",
    "    \"\"\"\n",
    "    Two cases:\n",
    "    1)  1 AM => 100\n",
    "    2) 10 AM => 1000\n",
    "    So we have to look at length first\n",
    "    This is a branchless version of the following: \n",
    "    if len(hhmm) == 3:\n",
    "        return hhmm[0:1]\n",
    "    if len(hhmm) == 4:\n",
    "        return hhmm[0:2]\n",
    "    \"\"\"\n",
    "    hhmm = str(HHMM)\n",
    "    return hhmm[0:len(hhmm)-2]\n",
    "\n",
    "def fix_hour_dataframe(df):\n",
    "    \"\"\"Create a new dataframe but fix hour\"\"\"\n",
    "    df['HORA (HHMM)'] = df['HORA (HHMM)'].apply(fix_hour)\n",
    "    return df\n",
    "\n",
    "def prepare_dataframe(df):\n",
    "    \"\"\"split date and fix hour \"\"\"\n",
    "    temp = split_date_dataframe(df)\n",
    "    return fix_hour_dataframe(temp)"
   ]
  },
  {
   "cell_type": "code",
   "execution_count": 18,
   "metadata": {},
   "outputs": [
    {
     "output_type": "execute_result",
     "data": {
      "text/plain": "      Year Month Day HORA (HHMM) ambient_t\n0       14    03  24           1       NaN\n1       14    03  24           2       NaN\n2       14    03  24           3       NaN\n3       14    03  24           4       NaN\n4       14    03  24           5       NaN\n...    ...   ...  ..         ...       ...\n55650   20    07  28          19   5,55851\n55651   20    07  28          20   3,69859\n55652   20    07  28          21   2,70067\n55653   20    07  28          22       NaN\n55654   20    07  28          23       NaN\n\n[55655 rows x 5 columns]",
      "text/html": "<div>\n<style scoped>\n    .dataframe tbody tr th:only-of-type {\n        vertical-align: middle;\n    }\n\n    .dataframe tbody tr th {\n        vertical-align: top;\n    }\n\n    .dataframe thead th {\n        text-align: right;\n    }\n</style>\n<table border=\"1\" class=\"dataframe\">\n  <thead>\n    <tr style=\"text-align: right;\">\n      <th></th>\n      <th>Year</th>\n      <th>Month</th>\n      <th>Day</th>\n      <th>HORA (HHMM)</th>\n      <th>ambient_t</th>\n    </tr>\n  </thead>\n  <tbody>\n    <tr>\n      <th>0</th>\n      <td>14</td>\n      <td>03</td>\n      <td>24</td>\n      <td>1</td>\n      <td>NaN</td>\n    </tr>\n    <tr>\n      <th>1</th>\n      <td>14</td>\n      <td>03</td>\n      <td>24</td>\n      <td>2</td>\n      <td>NaN</td>\n    </tr>\n    <tr>\n      <th>2</th>\n      <td>14</td>\n      <td>03</td>\n      <td>24</td>\n      <td>3</td>\n      <td>NaN</td>\n    </tr>\n    <tr>\n      <th>3</th>\n      <td>14</td>\n      <td>03</td>\n      <td>24</td>\n      <td>4</td>\n      <td>NaN</td>\n    </tr>\n    <tr>\n      <th>4</th>\n      <td>14</td>\n      <td>03</td>\n      <td>24</td>\n      <td>5</td>\n      <td>NaN</td>\n    </tr>\n    <tr>\n      <th>...</th>\n      <td>...</td>\n      <td>...</td>\n      <td>...</td>\n      <td>...</td>\n      <td>...</td>\n    </tr>\n    <tr>\n      <th>55650</th>\n      <td>20</td>\n      <td>07</td>\n      <td>28</td>\n      <td>19</td>\n      <td>5,55851</td>\n    </tr>\n    <tr>\n      <th>55651</th>\n      <td>20</td>\n      <td>07</td>\n      <td>28</td>\n      <td>20</td>\n      <td>3,69859</td>\n    </tr>\n    <tr>\n      <th>55652</th>\n      <td>20</td>\n      <td>07</td>\n      <td>28</td>\n      <td>21</td>\n      <td>2,70067</td>\n    </tr>\n    <tr>\n      <th>55653</th>\n      <td>20</td>\n      <td>07</td>\n      <td>28</td>\n      <td>22</td>\n      <td>NaN</td>\n    </tr>\n    <tr>\n      <th>55654</th>\n      <td>20</td>\n      <td>07</td>\n      <td>28</td>\n      <td>23</td>\n      <td>NaN</td>\n    </tr>\n  </tbody>\n</table>\n<p>55655 rows × 5 columns</p>\n</div>"
     },
     "metadata": {},
     "execution_count": 18
    }
   ],
   "source": [
    "df = temperatura_ambiente\n",
    "test = prepare_dataframe(df)\n",
    "test"
   ]
  },
  {
   "cell_type": "code",
   "execution_count": 42,
   "metadata": {},
   "outputs": [],
   "source": [
    "# df = dir_viento.merge(p_atm, on=['FECHA (YYMMDD)', 'HORA (HHMM)'], suffixes=('dir_viento', 'p_atm'))"
   ]
  },
  {
   "cell_type": "markdown",
   "metadata": {},
   "source": [
    "### Generando el DataFrame final"
   ]
  },
  {
   "cell_type": "code",
   "execution_count": 14,
   "metadata": {
    "tags": []
   },
   "outputs": [
    {
     "output_type": "stream",
     "name": "stdout",
     "text": "FECHA (YYMMDD)  HORA (HHMM) atm_p\n0               50101          100     0\n1               50101          200     0\n2               50101          300     0\n3               50101          400     0\n4               50101          500     0\n...               ...          ...   ...\n46818          100505         1900   NaN\n46819          100505         2000   NaN\n46820          100505         2100   NaN\n46821          100505         2200   NaN\n46822          100505         2300   NaN\n\n[46823 rows x 3 columns]\n       FECHA (YYMMDD)  HORA (HHMM) wind_dir atm_p\n0               50101          100    317,6     0\n1               50101          200    244,4     0\n2               50101          300    220,3     0\n3               50101          400    220,1     0\n4               50101          500    236,8     0\n...               ...          ...      ...   ...\n46818          100505         1900      NaN   NaN\n46819          100505         2000      NaN   NaN\n46820          100505         2100      NaN   NaN\n46821          100505         2200      NaN   NaN\n46822          100505         2300      NaN   NaN\n\n[46823 rows x 4 columns]\n       FECHA (YYMMDD)  HORA (HHMM) precipitation\n0              140324          100           NaN\n1              140324          200           NaN\n2              140324          300           NaN\n3              140324          400           NaN\n4              140324          500           NaN\n...               ...          ...           ...\n55650          200728         1900   2,24208e-44\n55651          200728         2000   2,24208e-44\n55652          200728         2100             0\n55653          200728         2200           NaN\n55654          200728         2300           NaN\n\n[55655 rows x 3 columns]\nEmpty DataFrame\nColumns: [FECHA (YYMMDD), HORA (HHMM), wind_dir, atm_p, precipitation]\nIndex: []\n       FECHA (YYMMDD)  HORA (HHMM) ambient_t\n0              140324          100       NaN\n1              140324          200       NaN\n2              140324          300       NaN\n3              140324          400       NaN\n4              140324          500       NaN\n...               ...          ...       ...\n55650          200728         1900   5,55851\n55651          200728         2000   3,69859\n55652          200728         2100   2,70067\n55653          200728         2200       NaN\n55654          200728         2300       NaN\n\n[55655 rows x 3 columns]\nEmpty DataFrame\nColumns: [wind_dir, atm_p, precipitation, FECHA (YYMMDD), HORA (HHMM), ambient_t]\nIndex: []\n       FECHA (YYMMDD)  HORA (HHMM) relative_humidity\n0              140324          100               NaN\n1              140324          200               NaN\n2              140324          300               NaN\n3              140324          400               NaN\n4              140324          500               NaN\n...               ...          ...               ...\n54138          200526         1900               NaN\n54139          200526         2000               NaN\n54140          200526         2100               NaN\n54141          200526         2200               NaN\n54142          200526         2300               NaN\n\n[54143 rows x 3 columns]\nEmpty DataFrame\nColumns: [wind_dir, atm_p, precipitation, ambient_t, FECHA (YYMMDD), HORA (HHMM), relative_humidity]\nIndex: []\n"
    }
   ],
   "source": [
    "dataframes = (dir_viento, p_atm, precipitaciones, temperatura_ambiente, humedad_relativa)\n",
    "df = pd.DataFrame(dir_viento)\n",
    "for _df in dataframes[1::]:\n",
    "    print(_df)\n",
    "    df = df.merge(_df, on=['FECHA (YYMMDD)', 'HORA (HHMM)'])\n",
    "    print(df)"
   ]
  },
  {
   "cell_type": "code",
   "execution_count": 15,
   "metadata": {
    "tags": []
   },
   "outputs": [
    {
     "output_type": "stream",
     "name": "stdout",
     "text": "Empty DataFrame\nColumns: [wind_dir, atm_p, precipitation, ambient_t, FECHA (YYMMDD), HORA (HHMM), relative_humidity]\nIndex: []\n"
    }
   ],
   "source": [
    "print(df)"
   ]
  },
  {
   "cell_type": "code",
   "execution_count": null,
   "metadata": {},
   "outputs": [],
   "source": []
  }
 ],
 "metadata": {
  "colab": {
   "name": "Proyecto_de_ML_prediccion_PM.ipynb",
   "provenance": [],
   "toc_visible": true
  },
  "kernelspec": {
   "display_name": "Python 3",
   "language": "python",
   "name": "python3"
  },
  "language_info": {
   "codemirror_mode": {
    "name": "ipython",
    "version": 3
   },
   "file_extension": ".py",
   "mimetype": "text/x-python",
   "name": "python",
   "nbconvert_exporter": "python",
   "pygments_lexer": "ipython3",
   "version": "3.7.2"
  }
 },
 "nbformat": 4,
 "nbformat_minor": 1
}