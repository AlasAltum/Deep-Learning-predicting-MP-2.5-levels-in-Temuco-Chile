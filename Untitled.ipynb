{
 "cells": [
  {
   "cell_type": "code",
   "execution_count": 1,
   "metadata": {},
   "outputs": [],
   "source": [
    "import pandas as pd"
   ]
  },
  {
   "cell_type": "code",
   "execution_count": 3,
   "metadata": {},
   "outputs": [],
   "source": [
    "wind_dir = pd.read_csv('./data/dir_viento.csv', sep=';')\n",
    "wind_dir.drop('Unnamed: 3', axis=1, inplace=True)\n",
    "wind_dir.rename({'Unnamed: 2': 'direccion'}, axis=1, inplace=True)"
   ]
  },
  {
   "cell_type": "code",
   "execution_count": 8,
   "metadata": {},
   "outputs": [],
   "source": [
    "wind_vel = pd.read_csv('./data/vel_viento.csv', sep=';')\n",
    "wind_vel.drop('Unnamed: 3', axis=1, inplace=True)\n",
    "wind_vel.rename({'Unnamed: 2': 'vel'}, axis=1, inplace=True)"
   ]
  },
  {
   "cell_type": "code",
   "execution_count": 14,
   "metadata": {},
   "outputs": [],
   "source": [
    "p_atm = pd.read_csv('./data/p_atm.csv', sep=';')\n",
    "p_atm.drop('Unnamed: 3', axis=1, inplace=True)\n",
    "p_atm.rename({'Unnamed: 2': 'p_atm'}, axis=1, inplace=True)"
   ]
  },
  {
   "cell_type": "code",
   "execution_count": 21,
   "metadata": {},
   "outputs": [],
   "source": [
    "humedad_relativa = pd.read_csv('./data/humedad_relativa.csv', sep=';')\n",
    "humedad_relativa.drop('Unnamed: 3', axis=1, inplace=True)\n",
    "humedad_relativa.rename({'Unnamed: 2': 'h_relat'}, axis=1, inplace=True)"
   ]
  },
  {
   "cell_type": "code",
   "execution_count": 26,
   "metadata": {},
   "outputs": [],
   "source": [
    "precipitaciones = pd.read_csv('./data/precipitaciones.csv', sep=';')\n",
    "precipitaciones.drop('Unnamed: 3', axis=1, inplace=True)\n",
    "precipitaciones.rename({'Unnamed: 2': 'precipitaciones'}, axis=1, inplace=True)"
   ]
  },
  {
   "cell_type": "code",
   "execution_count": 28,
   "metadata": {},
   "outputs": [],
   "source": [
    "temp_amb = pd.read_csv('./data/temperatura_ambiente.csv', sep=';')\n",
    "temp_amb.drop('Unnamed: 3', axis=1, inplace=True)\n",
    "temp_amb.rename({'Unnamed: 2': 'temp_amb'}, axis=1, inplace=True)"
   ]
  },
  {
   "cell_type": "code",
   "execution_count": 30,
   "metadata": {},
   "outputs": [],
   "source": [
    "def open_df(path, name):\n",
    "    df = pd.read_csv(path, sep=';')\n",
    "    df.drop('Unnamed: 3', axis=1, inplace=True)\n",
    "    df.rename({'Unnamed: 2': name}, axis=1, inplace=True)\n",
    "    return df"
   ]
  },
  {
   "cell_type": "code",
   "execution_count": 31,
   "metadata": {},
   "outputs": [],
   "source": [
    "temp_amb = pd.read_csv('./data/mp25.csv', sep=';')\n"
   ]
  },
  {
   "cell_type": "code",
   "execution_count": 32,
   "metadata": {},
   "outputs": [
    {
     "data": {
      "text/html": [
       "<div>\n",
       "<style scoped>\n",
       "    .dataframe tbody tr th:only-of-type {\n",
       "        vertical-align: middle;\n",
       "    }\n",
       "\n",
       "    .dataframe tbody tr th {\n",
       "        vertical-align: top;\n",
       "    }\n",
       "\n",
       "    .dataframe thead th {\n",
       "        text-align: right;\n",
       "    }\n",
       "</style>\n",
       "<table border=\"1\" class=\"dataframe\">\n",
       "  <thead>\n",
       "    <tr style=\"text-align: right;\">\n",
       "      <th></th>\n",
       "      <th>FECHA (YYMMDD)</th>\n",
       "      <th>HORA (HHMM)</th>\n",
       "      <th>Registros validados</th>\n",
       "      <th>Registros preliminares</th>\n",
       "      <th>Registros no validados</th>\n",
       "      <th>Unnamed: 5</th>\n",
       "    </tr>\n",
       "  </thead>\n",
       "  <tbody>\n",
       "    <tr>\n",
       "      <th>0</th>\n",
       "      <td>90101</td>\n",
       "      <td>100</td>\n",
       "      <td>NaN</td>\n",
       "      <td>8,2</td>\n",
       "      <td>NaN</td>\n",
       "      <td>NaN</td>\n",
       "    </tr>\n",
       "    <tr>\n",
       "      <th>1</th>\n",
       "      <td>90101</td>\n",
       "      <td>200</td>\n",
       "      <td>NaN</td>\n",
       "      <td>6,89999</td>\n",
       "      <td>NaN</td>\n",
       "      <td>NaN</td>\n",
       "    </tr>\n",
       "    <tr>\n",
       "      <th>2</th>\n",
       "      <td>90101</td>\n",
       "      <td>300</td>\n",
       "      <td>NaN</td>\n",
       "      <td>6,6</td>\n",
       "      <td>NaN</td>\n",
       "      <td>NaN</td>\n",
       "    </tr>\n",
       "    <tr>\n",
       "      <th>3</th>\n",
       "      <td>90101</td>\n",
       "      <td>400</td>\n",
       "      <td>NaN</td>\n",
       "      <td>8,79999</td>\n",
       "      <td>NaN</td>\n",
       "      <td>NaN</td>\n",
       "    </tr>\n",
       "    <tr>\n",
       "      <th>4</th>\n",
       "      <td>90101</td>\n",
       "      <td>500</td>\n",
       "      <td>NaN</td>\n",
       "      <td>13,9</td>\n",
       "      <td>NaN</td>\n",
       "      <td>NaN</td>\n",
       "    </tr>\n",
       "    <tr>\n",
       "      <th>...</th>\n",
       "      <td>...</td>\n",
       "      <td>...</td>\n",
       "      <td>...</td>\n",
       "      <td>...</td>\n",
       "      <td>...</td>\n",
       "      <td>...</td>\n",
       "    </tr>\n",
       "    <tr>\n",
       "      <th>101634</th>\n",
       "      <td>200805</td>\n",
       "      <td>1900</td>\n",
       "      <td>NaN</td>\n",
       "      <td>57</td>\n",
       "      <td>NaN</td>\n",
       "      <td>NaN</td>\n",
       "    </tr>\n",
       "    <tr>\n",
       "      <th>101635</th>\n",
       "      <td>200805</td>\n",
       "      <td>2000</td>\n",
       "      <td>NaN</td>\n",
       "      <td>88</td>\n",
       "      <td>NaN</td>\n",
       "      <td>NaN</td>\n",
       "    </tr>\n",
       "    <tr>\n",
       "      <th>101636</th>\n",
       "      <td>200805</td>\n",
       "      <td>2100</td>\n",
       "      <td>NaN</td>\n",
       "      <td>97</td>\n",
       "      <td>NaN</td>\n",
       "      <td>NaN</td>\n",
       "    </tr>\n",
       "    <tr>\n",
       "      <th>101637</th>\n",
       "      <td>200805</td>\n",
       "      <td>2200</td>\n",
       "      <td>NaN</td>\n",
       "      <td>54</td>\n",
       "      <td>NaN</td>\n",
       "      <td>NaN</td>\n",
       "    </tr>\n",
       "    <tr>\n",
       "      <th>101638</th>\n",
       "      <td>200805</td>\n",
       "      <td>2300</td>\n",
       "      <td>NaN</td>\n",
       "      <td>90</td>\n",
       "      <td>NaN</td>\n",
       "      <td>NaN</td>\n",
       "    </tr>\n",
       "  </tbody>\n",
       "</table>\n",
       "<p>101639 rows × 6 columns</p>\n",
       "</div>"
      ],
      "text/plain": [
       "        FECHA (YYMMDD)  HORA (HHMM) Registros validados  \\\n",
       "0                90101          100                 NaN   \n",
       "1                90101          200                 NaN   \n",
       "2                90101          300                 NaN   \n",
       "3                90101          400                 NaN   \n",
       "4                90101          500                 NaN   \n",
       "...                ...          ...                 ...   \n",
       "101634          200805         1900                 NaN   \n",
       "101635          200805         2000                 NaN   \n",
       "101636          200805         2100                 NaN   \n",
       "101637          200805         2200                 NaN   \n",
       "101638          200805         2300                 NaN   \n",
       "\n",
       "       Registros preliminares Registros no validados  Unnamed: 5  \n",
       "0                         8,2                    NaN         NaN  \n",
       "1                     6,89999                    NaN         NaN  \n",
       "2                         6,6                    NaN         NaN  \n",
       "3                     8,79999                    NaN         NaN  \n",
       "4                        13,9                    NaN         NaN  \n",
       "...                       ...                    ...         ...  \n",
       "101634                     57                    NaN         NaN  \n",
       "101635                     88                    NaN         NaN  \n",
       "101636                     97                    NaN         NaN  \n",
       "101637                     54                    NaN         NaN  \n",
       "101638                     90                    NaN         NaN  \n",
       "\n",
       "[101639 rows x 6 columns]"
      ]
     },
     "execution_count": 32,
     "metadata": {},
     "output_type": "execute_result"
    }
   ],
   "source": [
    "temp_amb"
   ]
  },
  {
   "cell_type": "code",
   "execution_count": null,
   "metadata": {},
   "outputs": [],
   "source": []
  }
 ],
 "metadata": {
  "kernelspec": {
   "display_name": "Python 3",
   "language": "python",
   "name": "python3"
  },
  "language_info": {
   "codemirror_mode": {
    "name": "ipython",
    "version": 3
   },
   "file_extension": ".py",
   "mimetype": "text/x-python",
   "name": "python",
   "nbconvert_exporter": "python",
   "pygments_lexer": "ipython3",
   "version": "3.8.5"
  }
 },
 "nbformat": 4,
 "nbformat_minor": 4
}
